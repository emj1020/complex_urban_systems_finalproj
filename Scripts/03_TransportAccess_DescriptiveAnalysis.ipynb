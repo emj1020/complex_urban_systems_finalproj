{
 "cells": [
  {
   "cell_type": "code",
   "execution_count": 1,
   "id": "eef000b8",
   "metadata": {},
   "outputs": [],
   "source": [
    "#import packages\n",
    "import pandas as pd\n",
    "import geopandas as gpd\n",
    "import requests\n",
    "from shapely.geometry import shape, Point\n",
    "import numpy as np\n",
    "import matplotlib\n",
    "import matplotlib.pyplot as plt\n",
    "import urllib.request, json\n",
    "import requests\n",
    "import urllib.parse\n",
    "import datetime\n",
    "\n",
    "import warnings\n",
    "warnings.filterwarnings('ignore')"
   ]
  },
  {
   "cell_type": "code",
   "execution_count": 3,
   "id": "2e037b22",
   "metadata": {},
   "outputs": [
    {
     "data": {
      "text/html": [
       "<div>\n",
       "<style scoped>\n",
       "    .dataframe tbody tr th:only-of-type {\n",
       "        vertical-align: middle;\n",
       "    }\n",
       "\n",
       "    .dataframe tbody tr th {\n",
       "        vertical-align: top;\n",
       "    }\n",
       "\n",
       "    .dataframe thead th {\n",
       "        text-align: right;\n",
       "    }\n",
       "</style>\n",
       "<table border=\"1\" class=\"dataframe\">\n",
       "  <thead>\n",
       "    <tr style=\"text-align: right;\">\n",
       "      <th></th>\n",
       "      <th>ctlabel</th>\n",
       "      <th>borocode</th>\n",
       "      <th>boroname</th>\n",
       "      <th>ct2020</th>\n",
       "      <th>boroct2020</th>\n",
       "      <th>ntaname</th>\n",
       "      <th>nta2020</th>\n",
       "      <th>cdta2020</th>\n",
       "      <th>cdtaname</th>\n",
       "      <th>geoid</th>\n",
       "      <th>shape_leng</th>\n",
       "      <th>shape_area</th>\n",
       "      <th>geometry</th>\n",
       "      <th>Bus_Access</th>\n",
       "      <th>Subway_Access</th>\n",
       "      <th>Bus_Count</th>\n",
       "      <th>Subway_Count</th>\n",
       "    </tr>\n",
       "  </thead>\n",
       "  <tbody>\n",
       "    <tr>\n",
       "      <th>0</th>\n",
       "      <td>1.00</td>\n",
       "      <td>1</td>\n",
       "      <td>Manhattan</td>\n",
       "      <td>100</td>\n",
       "      <td>1000100</td>\n",
       "      <td>The Battery-Governors Island-Ellis Island-Libe...</td>\n",
       "      <td>MN0191</td>\n",
       "      <td>MN01</td>\n",
       "      <td>MN01 Financial District-Tribeca (CD 1 Equivalent)</td>\n",
       "      <td>36061000100</td>\n",
       "      <td>11023.048501</td>\n",
       "      <td>1.844421e+06</td>\n",
       "      <td>MULTIPOLYGON (((-74.04387761639944 40.69018767...</td>\n",
       "      <td>0</td>\n",
       "      <td>0</td>\n",
       "      <td>0</td>\n",
       "      <td>0</td>\n",
       "    </tr>\n",
       "    <tr>\n",
       "      <th>1</th>\n",
       "      <td>2.01</td>\n",
       "      <td>1</td>\n",
       "      <td>Manhattan</td>\n",
       "      <td>201</td>\n",
       "      <td>1000201</td>\n",
       "      <td>Chinatown-Two Bridges</td>\n",
       "      <td>MN0301</td>\n",
       "      <td>MN03</td>\n",
       "      <td>MN03 Lower East Side-Chinatown (CD 3 Equivalent)</td>\n",
       "      <td>36061000201</td>\n",
       "      <td>4754.495247</td>\n",
       "      <td>9.723121e+05</td>\n",
       "      <td>MULTIPOLYGON (((-73.98449647076764 40.70950966...</td>\n",
       "      <td>1</td>\n",
       "      <td>1</td>\n",
       "      <td>23</td>\n",
       "      <td>3</td>\n",
       "    </tr>\n",
       "    <tr>\n",
       "      <th>2</th>\n",
       "      <td>6.00</td>\n",
       "      <td>1</td>\n",
       "      <td>Manhattan</td>\n",
       "      <td>600</td>\n",
       "      <td>1000600</td>\n",
       "      <td>Chinatown-Two Bridges</td>\n",
       "      <td>MN0301</td>\n",
       "      <td>MN03</td>\n",
       "      <td>MN03 Lower East Side-Chinatown (CD 3 Equivalent)</td>\n",
       "      <td>36061000600</td>\n",
       "      <td>6976.286456</td>\n",
       "      <td>2.582705e+06</td>\n",
       "      <td>MULTIPOLYGON (((-73.99022012669926 40.71440493...</td>\n",
       "      <td>1</td>\n",
       "      <td>1</td>\n",
       "      <td>25</td>\n",
       "      <td>4</td>\n",
       "    </tr>\n",
       "    <tr>\n",
       "      <th>3</th>\n",
       "      <td>14.01</td>\n",
       "      <td>1</td>\n",
       "      <td>Manhattan</td>\n",
       "      <td>1401</td>\n",
       "      <td>1001401</td>\n",
       "      <td>Lower East Side</td>\n",
       "      <td>MN0302</td>\n",
       "      <td>MN03</td>\n",
       "      <td>MN03 Lower East Side-Chinatown (CD 3 Equivalent)</td>\n",
       "      <td>36061001401</td>\n",
       "      <td>5075.332000</td>\n",
       "      <td>1.006117e+06</td>\n",
       "      <td>MULTIPOLYGON (((-73.9883662631772 40.716445702...</td>\n",
       "      <td>1</td>\n",
       "      <td>1</td>\n",
       "      <td>26</td>\n",
       "      <td>4</td>\n",
       "    </tr>\n",
       "    <tr>\n",
       "      <th>4</th>\n",
       "      <td>14.02</td>\n",
       "      <td>1</td>\n",
       "      <td>Manhattan</td>\n",
       "      <td>1402</td>\n",
       "      <td>1001402</td>\n",
       "      <td>Lower East Side</td>\n",
       "      <td>MN0302</td>\n",
       "      <td>MN03</td>\n",
       "      <td>MN03 Lower East Side-Chinatown (CD 3 Equivalent)</td>\n",
       "      <td>36061001402</td>\n",
       "      <td>4459.156019</td>\n",
       "      <td>1.226206e+06</td>\n",
       "      <td>MULTIPOLYGON (((-73.98507342254645 40.71908329...</td>\n",
       "      <td>1</td>\n",
       "      <td>1</td>\n",
       "      <td>30</td>\n",
       "      <td>4</td>\n",
       "    </tr>\n",
       "  </tbody>\n",
       "</table>\n",
       "</div>"
      ],
      "text/plain": [
       "   ctlabel  borocode   boroname  ct2020  boroct2020  \\\n",
       "0     1.00         1  Manhattan     100     1000100   \n",
       "1     2.01         1  Manhattan     201     1000201   \n",
       "2     6.00         1  Manhattan     600     1000600   \n",
       "3    14.01         1  Manhattan    1401     1001401   \n",
       "4    14.02         1  Manhattan    1402     1001402   \n",
       "\n",
       "                                             ntaname nta2020 cdta2020  \\\n",
       "0  The Battery-Governors Island-Ellis Island-Libe...  MN0191     MN01   \n",
       "1                              Chinatown-Two Bridges  MN0301     MN03   \n",
       "2                              Chinatown-Two Bridges  MN0301     MN03   \n",
       "3                                    Lower East Side  MN0302     MN03   \n",
       "4                                    Lower East Side  MN0302     MN03   \n",
       "\n",
       "                                            cdtaname        geoid  \\\n",
       "0  MN01 Financial District-Tribeca (CD 1 Equivalent)  36061000100   \n",
       "1   MN03 Lower East Side-Chinatown (CD 3 Equivalent)  36061000201   \n",
       "2   MN03 Lower East Side-Chinatown (CD 3 Equivalent)  36061000600   \n",
       "3   MN03 Lower East Side-Chinatown (CD 3 Equivalent)  36061001401   \n",
       "4   MN03 Lower East Side-Chinatown (CD 3 Equivalent)  36061001402   \n",
       "\n",
       "     shape_leng    shape_area  \\\n",
       "0  11023.048501  1.844421e+06   \n",
       "1   4754.495247  9.723121e+05   \n",
       "2   6976.286456  2.582705e+06   \n",
       "3   5075.332000  1.006117e+06   \n",
       "4   4459.156019  1.226206e+06   \n",
       "\n",
       "                                            geometry  Bus_Access  \\\n",
       "0  MULTIPOLYGON (((-74.04387761639944 40.69018767...           0   \n",
       "1  MULTIPOLYGON (((-73.98449647076764 40.70950966...           1   \n",
       "2  MULTIPOLYGON (((-73.99022012669926 40.71440493...           1   \n",
       "3  MULTIPOLYGON (((-73.9883662631772 40.716445702...           1   \n",
       "4  MULTIPOLYGON (((-73.98507342254645 40.71908329...           1   \n",
       "\n",
       "   Subway_Access  Bus_Count  Subway_Count  \n",
       "0              0          0             0  \n",
       "1              1         23             3  \n",
       "2              1         25             4  \n",
       "3              1         26             4  \n",
       "4              1         30             4  "
      ]
     },
     "execution_count": 3,
     "metadata": {},
     "output_type": "execute_result"
    }
   ],
   "source": [
    "access = pd.read_csv('../Data/tracts_subway_bus_access.csv', index_col = 0)\n",
    "access.head()"
   ]
  },
  {
   "cell_type": "code",
   "execution_count": 4,
   "id": "a1f90363",
   "metadata": {},
   "outputs": [
    {
     "data": {
      "text/plain": [
       "2325"
      ]
     },
     "execution_count": 4,
     "metadata": {},
     "output_type": "execute_result"
    }
   ],
   "source": [
    "len(access)"
   ]
  },
  {
   "cell_type": "code",
   "execution_count": 5,
   "id": "154562cc",
   "metadata": {},
   "outputs": [
    {
     "data": {
      "text/plain": [
       "2295"
      ]
     },
     "execution_count": 5,
     "metadata": {},
     "output_type": "execute_result"
    }
   ],
   "source": [
    "len(access[access['Bus_Access'] == 1])"
   ]
  },
  {
   "cell_type": "code",
   "execution_count": 6,
   "id": "c22461e8",
   "metadata": {},
   "outputs": [
    {
     "data": {
      "text/plain": [
       "1227"
      ]
     },
     "execution_count": 6,
     "metadata": {},
     "output_type": "execute_result"
    }
   ],
   "source": [
    "len(access[access['Subway_Access'] == 1])"
   ]
  },
  {
   "cell_type": "code",
   "execution_count": 10,
   "id": "62766eee",
   "metadata": {},
   "outputs": [
    {
     "data": {
      "text/plain": [
       "2298"
      ]
     },
     "execution_count": 10,
     "metadata": {},
     "output_type": "execute_result"
    }
   ],
   "source": [
    "len((access[(access['Subway_Access'] == 1)|(access['Bus_Access'] == 1)]))"
   ]
  }
 ],
 "metadata": {
  "kernelspec": {
   "display_name": "Python 3 (ipykernel)",
   "language": "python",
   "name": "python3"
  },
  "language_info": {
   "codemirror_mode": {
    "name": "ipython",
    "version": 3
   },
   "file_extension": ".py",
   "mimetype": "text/x-python",
   "name": "python",
   "nbconvert_exporter": "python",
   "pygments_lexer": "ipython3",
   "version": "3.10.6"
  }
 },
 "nbformat": 4,
 "nbformat_minor": 5
}
