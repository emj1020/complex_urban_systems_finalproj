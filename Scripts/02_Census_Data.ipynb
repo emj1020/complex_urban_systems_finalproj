{
 "cells": [
  {
   "cell_type": "markdown",
   "metadata": {
    "id": "o05mu32cFVIz"
   },
   "source": [
    "## Set up notebook"
   ]
  },
  {
   "cell_type": "code",
   "execution_count": 185,
   "metadata": {
    "id": "8wLP1OfSFgBu"
   },
   "outputs": [],
   "source": [
    "MY_API_KEY='7ca7d761c1c9d2b36a6b6d0857c78344f9b7f8b0'"
   ]
  },
  {
   "cell_type": "code",
   "execution_count": 186,
   "metadata": {
    "id": "NnWeXasdGA0V"
   },
   "outputs": [],
   "source": [
    "import pandas as pd\n",
    "import censusdata\n",
    "import numpy as np\n",
    "import matplotlib.pyplot as plt"
   ]
  },
  {
   "cell_type": "code",
   "execution_count": 187,
   "metadata": {
    "id": "UZ6TY8m0GVlC"
   },
   "outputs": [],
   "source": [
    "def add_FIP(df):\n",
    "    county_fip=[]\n",
    "    tract_fip=[]\n",
    "    block_fip=[]\n",
    "    \n",
    "    for county in df.index:\n",
    "        county_=county.geo[0][1]+county.geo[1][1]\n",
    "        tract_=county.geo[0][1]+county.geo[1][1]+county.geo[2][1]\n",
    "        try:\n",
    "            block_=county.geo[0][1]+county.geo[1][1]+county.geo[2][1]+county.geo[3][1]\n",
    "            block_fip.append(block_)\n",
    "            is_block=True\n",
    "        except:\n",
    "            is_block=False\n",
    "        \n",
    "        \n",
    "        county_fip.append(county_)\n",
    "        tract_fip.append(tract_)\n",
    "        \n",
    "        \n",
    "        #place_name.append(county.name)\n",
    "    df['County'] =county_fip\n",
    "    df['Tract'] =tract_fip\n",
    "    if is_block: \n",
    "        df['block_FIP'] =block_fip\n",
    "    #df['place']=place_name\n",
    "    return df"
   ]
  },
  {
   "cell_type": "code",
   "execution_count": 188,
   "metadata": {
    "id": "99-2BnQEGlmt"
   },
   "outputs": [],
   "source": [
    "year=2019 #2019 \n",
    "county_list=['005', '047', '081',  '061'] #bx, bk, manhattan, queens"
   ]
  },
  {
   "cell_type": "markdown",
   "metadata": {},
   "source": [
    "# Means of Transportation to Work\n",
    "\n",
    "B08301"
   ]
  },
  {
   "cell_type": "code",
   "execution_count": 189,
   "metadata": {},
   "outputs": [
    {
     "name": "stdout",
     "output_type": "stream",
     "text": [
      "Variable     | Table                          | Label                                                    | Type \n",
      "-------------------------------------------------------------------------------------------------------------------\n",
      "B08301_001E  | MEANS OF TRANSPORTATION TO WOR | !! Estimate Total:                                       | int  \n",
      "B08301_002E  | MEANS OF TRANSPORTATION TO WOR | !! !! Estimate Total: Car, truck, or van:                | int  \n",
      "B08301_003E  | MEANS OF TRANSPORTATION TO WOR | !! !! !! Estimate Total: Car, truck, or van: Drove alone | int  \n",
      "B08301_004E  | MEANS OF TRANSPORTATION TO WOR | !! !! !! Estimate Total: Car, truck, or van: Carpooled:  | int  \n",
      "B08301_005E  | MEANS OF TRANSPORTATION TO WOR | !! !! !! !! Estimate Total: Car, truck, or van: Carpoole | int  \n",
      "B08301_006E  | MEANS OF TRANSPORTATION TO WOR | !! !! !! !! Estimate Total: Car, truck, or van: Carpoole | int  \n",
      "B08301_007E  | MEANS OF TRANSPORTATION TO WOR | !! !! !! !! Estimate Total: Car, truck, or van: Carpoole | int  \n",
      "B08301_008E  | MEANS OF TRANSPORTATION TO WOR | !! !! !! !! Estimate Total: Car, truck, or van: Carpoole | int  \n",
      "B08301_009E  | MEANS OF TRANSPORTATION TO WOR | !! !! !! !! Estimate Total: Car, truck, or van: Carpoole | int  \n",
      "B08301_010E  | MEANS OF TRANSPORTATION TO WOR | !! !! Estimate Total: Public transportation (excluding t | int  \n",
      "B08301_011E  | MEANS OF TRANSPORTATION TO WOR | !! !! !! Estimate Total: Public transportation (excludin | int  \n",
      "B08301_012E  | MEANS OF TRANSPORTATION TO WOR | !! !! !! Estimate Total: Public transportation (excludin | int  \n",
      "B08301_013E  | MEANS OF TRANSPORTATION TO WOR | !! !! !! Estimate Total: Public transportation (excludin | int  \n",
      "B08301_014E  | MEANS OF TRANSPORTATION TO WOR | !! !! !! Estimate Total: Public transportation (excludin | int  \n",
      "B08301_015E  | MEANS OF TRANSPORTATION TO WOR | !! !! !! Estimate Total: Public transportation (excludin | int  \n",
      "B08301_016E  | MEANS OF TRANSPORTATION TO WOR | !! !! Estimate Total: Taxicab                            | int  \n",
      "B08301_017E  | MEANS OF TRANSPORTATION TO WOR | !! !! Estimate Total: Motorcycle                         | int  \n",
      "B08301_018E  | MEANS OF TRANSPORTATION TO WOR | !! !! Estimate Total: Bicycle                            | int  \n",
      "B08301_019E  | MEANS OF TRANSPORTATION TO WOR | !! !! Estimate Total: Walked                             | int  \n",
      "B08301_020E  | MEANS OF TRANSPORTATION TO WOR | !! !! Estimate Total: Other means                        | int  \n",
      "B08301_021E  | MEANS OF TRANSPORTATION TO WOR | !! !! Estimate Total: Worked from home                   | int  \n",
      "-------------------------------------------------------------------------------------------------------------------\n"
     ]
    }
   ],
   "source": [
    "censusdata.printtable(censusdata.censustable('acs5', year, 'B08301'))\n",
    "\n",
    "commute_variables={'B08301_001E':'Tot_commuters','B08301_002E':'Drive','B08301_010E':'Transit_all','B08301_011E':'Bus','B08301_012E':'Subway'}\n"
   ]
  },
  {
   "cell_type": "code",
   "execution_count": 190,
   "metadata": {},
   "outputs": [],
   "source": [
    "def make_commute_mode_df(county_code):\n",
    "    commute_data = censusdata.download('acs5', year, censusdata.censusgeo([('state', '36'), ('county', county_code), ('tract', '*')]),\n",
    "                                       list(commute_variables.keys()),key=MY_API_KEY)\n",
    "    commute_data.columns=commute_data.columns.map(commute_variables)\n",
    "    \n",
    "    commute_data=add_FIP(commute_data)\n",
    "    return commute_data"
   ]
  },
  {
   "cell_type": "markdown",
   "metadata": {},
   "source": [
    "## Count by job type for workforce 16 y/o and above"
   ]
  },
  {
   "cell_type": "markdown",
   "metadata": {},
   "source": [
    "https://censusreporter.org/tables/C24050/"
   ]
  },
  {
   "cell_type": "markdown",
   "metadata": {},
   "source": [
    "Pulling the 5 high groups:\n",
    "- Management, business, science, and arts occupations: white collar type 1\n",
    "- Service occupations: blue collar type 1\n",
    "- Sales and office occupations: white collar type 2\n",
    "- Natural resources, construction, and maintenance occupations: blue collar type 2\n",
    "- Production, transportation, and material moving occupations: blue collar type 3"
   ]
  },
  {
   "cell_type": "code",
   "execution_count": 191,
   "metadata": {},
   "outputs": [
    {
     "name": "stdout",
     "output_type": "stream",
     "text": [
      "Variable     | Table                          | Label                                                    | Type \n",
      "-------------------------------------------------------------------------------------------------------------------\n",
      "C24050_001E  | INDUSTRY BY OCCUPATION FOR THE | !! Estimate Total:                                       | int  \n",
      "C24050_002E  | INDUSTRY BY OCCUPATION FOR THE | !! !! Estimate Total: Agriculture, forestry, fishing and | int  \n",
      "C24050_003E  | INDUSTRY BY OCCUPATION FOR THE | !! !! Estimate Total: Construction                       | int  \n",
      "C24050_004E  | INDUSTRY BY OCCUPATION FOR THE | !! !! Estimate Total: Manufacturing                      | int  \n",
      "C24050_005E  | INDUSTRY BY OCCUPATION FOR THE | !! !! Estimate Total: Wholesale trade                    | int  \n",
      "C24050_006E  | INDUSTRY BY OCCUPATION FOR THE | !! !! Estimate Total: Retail trade                       | int  \n",
      "C24050_007E  | INDUSTRY BY OCCUPATION FOR THE | !! !! Estimate Total: Transportation and warehousing, an | int  \n",
      "C24050_008E  | INDUSTRY BY OCCUPATION FOR THE | !! !! Estimate Total: Information                        | int  \n",
      "C24050_009E  | INDUSTRY BY OCCUPATION FOR THE | !! !! Estimate Total: Finance and insurance, and real es | int  \n",
      "C24050_010E  | INDUSTRY BY OCCUPATION FOR THE | !! !! Estimate Total: Professional, scientific, and mana | int  \n",
      "C24050_011E  | INDUSTRY BY OCCUPATION FOR THE | !! !! Estimate Total: Educational services, and health c | int  \n",
      "C24050_012E  | INDUSTRY BY OCCUPATION FOR THE | !! !! Estimate Total: Arts, entertainment, and recreatio | int  \n",
      "C24050_013E  | INDUSTRY BY OCCUPATION FOR THE | !! !! Estimate Total: Other services, except public admi | int  \n",
      "C24050_014E  | INDUSTRY BY OCCUPATION FOR THE | !! !! Estimate Total: Public administration              | int  \n",
      "C24050_015E  | INDUSTRY BY OCCUPATION FOR THE | !! !! Estimate Total: Management, business, science, and | int  \n",
      "C24050_016E  | INDUSTRY BY OCCUPATION FOR THE | !! !! !! Estimate Total: Management, business, science,  | int  \n",
      "C24050_017E  | INDUSTRY BY OCCUPATION FOR THE | !! !! !! Estimate Total: Management, business, science,  | int  \n",
      "C24050_018E  | INDUSTRY BY OCCUPATION FOR THE | !! !! !! Estimate Total: Management, business, science,  | int  \n",
      "C24050_019E  | INDUSTRY BY OCCUPATION FOR THE | !! !! !! Estimate Total: Management, business, science,  | int  \n",
      "C24050_020E  | INDUSTRY BY OCCUPATION FOR THE | !! !! !! Estimate Total: Management, business, science,  | int  \n",
      "C24050_021E  | INDUSTRY BY OCCUPATION FOR THE | !! !! !! Estimate Total: Management, business, science,  | int  \n",
      "C24050_022E  | INDUSTRY BY OCCUPATION FOR THE | !! !! !! Estimate Total: Management, business, science,  | int  \n",
      "C24050_023E  | INDUSTRY BY OCCUPATION FOR THE | !! !! !! Estimate Total: Management, business, science,  | int  \n",
      "C24050_024E  | INDUSTRY BY OCCUPATION FOR THE | !! !! !! Estimate Total: Management, business, science,  | int  \n",
      "C24050_025E  | INDUSTRY BY OCCUPATION FOR THE | !! !! !! Estimate Total: Management, business, science,  | int  \n",
      "C24050_026E  | INDUSTRY BY OCCUPATION FOR THE | !! !! !! Estimate Total: Management, business, science,  | int  \n",
      "C24050_027E  | INDUSTRY BY OCCUPATION FOR THE | !! !! !! Estimate Total: Management, business, science,  | int  \n",
      "C24050_028E  | INDUSTRY BY OCCUPATION FOR THE | !! !! !! Estimate Total: Management, business, science,  | int  \n",
      "C24050_029E  | INDUSTRY BY OCCUPATION FOR THE | !! !! Estimate Total: Service occupations:               | int  \n",
      "C24050_030E  | INDUSTRY BY OCCUPATION FOR THE | !! !! !! Estimate Total: Service occupations: Agricultur | int  \n",
      "C24050_031E  | INDUSTRY BY OCCUPATION FOR THE | !! !! !! Estimate Total: Service occupations: Constructi | int  \n",
      "C24050_032E  | INDUSTRY BY OCCUPATION FOR THE | !! !! !! Estimate Total: Service occupations: Manufactur | int  \n",
      "C24050_033E  | INDUSTRY BY OCCUPATION FOR THE | !! !! !! Estimate Total: Service occupations: Wholesale  | int  \n",
      "C24050_034E  | INDUSTRY BY OCCUPATION FOR THE | !! !! !! Estimate Total: Service occupations: Retail tra | int  \n",
      "C24050_035E  | INDUSTRY BY OCCUPATION FOR THE | !! !! !! Estimate Total: Service occupations: Transporta | int  \n",
      "C24050_036E  | INDUSTRY BY OCCUPATION FOR THE | !! !! !! Estimate Total: Service occupations: Informatio | int  \n",
      "C24050_037E  | INDUSTRY BY OCCUPATION FOR THE | !! !! !! Estimate Total: Service occupations: Finance an | int  \n",
      "C24050_038E  | INDUSTRY BY OCCUPATION FOR THE | !! !! !! Estimate Total: Service occupations: Profession | int  \n",
      "C24050_039E  | INDUSTRY BY OCCUPATION FOR THE | !! !! !! Estimate Total: Service occupations: Educationa | int  \n",
      "C24050_040E  | INDUSTRY BY OCCUPATION FOR THE | !! !! !! Estimate Total: Service occupations: Arts, ente | int  \n",
      "C24050_041E  | INDUSTRY BY OCCUPATION FOR THE | !! !! !! Estimate Total: Service occupations: Other serv | int  \n",
      "C24050_042E  | INDUSTRY BY OCCUPATION FOR THE | !! !! !! Estimate Total: Service occupations: Public adm | int  \n",
      "C24050_043E  | INDUSTRY BY OCCUPATION FOR THE | !! !! Estimate Total: Sales and office occupations:      | int  \n",
      "C24050_044E  | INDUSTRY BY OCCUPATION FOR THE | !! !! !! Estimate Total: Sales and office occupations: A | int  \n",
      "C24050_045E  | INDUSTRY BY OCCUPATION FOR THE | !! !! !! Estimate Total: Sales and office occupations: C | int  \n",
      "C24050_046E  | INDUSTRY BY OCCUPATION FOR THE | !! !! !! Estimate Total: Sales and office occupations: M | int  \n",
      "C24050_047E  | INDUSTRY BY OCCUPATION FOR THE | !! !! !! Estimate Total: Sales and office occupations: W | int  \n",
      "C24050_048E  | INDUSTRY BY OCCUPATION FOR THE | !! !! !! Estimate Total: Sales and office occupations: R | int  \n",
      "C24050_049E  | INDUSTRY BY OCCUPATION FOR THE | !! !! !! Estimate Total: Sales and office occupations: T | int  \n",
      "C24050_050E  | INDUSTRY BY OCCUPATION FOR THE | !! !! !! Estimate Total: Sales and office occupations: I | int  \n",
      "C24050_051E  | INDUSTRY BY OCCUPATION FOR THE | !! !! !! Estimate Total: Sales and office occupations: F | int  \n",
      "C24050_052E  | INDUSTRY BY OCCUPATION FOR THE | !! !! !! Estimate Total: Sales and office occupations: P | int  \n",
      "C24050_053E  | INDUSTRY BY OCCUPATION FOR THE | !! !! !! Estimate Total: Sales and office occupations: E | int  \n",
      "C24050_054E  | INDUSTRY BY OCCUPATION FOR THE | !! !! !! Estimate Total: Sales and office occupations: A | int  \n",
      "C24050_055E  | INDUSTRY BY OCCUPATION FOR THE | !! !! !! Estimate Total: Sales and office occupations: O | int  \n",
      "C24050_056E  | INDUSTRY BY OCCUPATION FOR THE | !! !! !! Estimate Total: Sales and office occupations: P | int  \n",
      "C24050_057E  | INDUSTRY BY OCCUPATION FOR THE | !! !! Estimate Total: Natural resources, construction, a | int  \n",
      "C24050_058E  | INDUSTRY BY OCCUPATION FOR THE | !! !! !! Estimate Total: Natural resources, construction | int  \n",
      "C24050_059E  | INDUSTRY BY OCCUPATION FOR THE | !! !! !! Estimate Total: Natural resources, construction | int  \n",
      "C24050_060E  | INDUSTRY BY OCCUPATION FOR THE | !! !! !! Estimate Total: Natural resources, construction | int  \n",
      "C24050_061E  | INDUSTRY BY OCCUPATION FOR THE | !! !! !! Estimate Total: Natural resources, construction | int  \n",
      "C24050_062E  | INDUSTRY BY OCCUPATION FOR THE | !! !! !! Estimate Total: Natural resources, construction | int  \n",
      "C24050_063E  | INDUSTRY BY OCCUPATION FOR THE | !! !! !! Estimate Total: Natural resources, construction | int  \n",
      "C24050_064E  | INDUSTRY BY OCCUPATION FOR THE | !! !! !! Estimate Total: Natural resources, construction | int  \n",
      "C24050_065E  | INDUSTRY BY OCCUPATION FOR THE | !! !! !! Estimate Total: Natural resources, construction | int  \n",
      "C24050_066E  | INDUSTRY BY OCCUPATION FOR THE | !! !! !! Estimate Total: Natural resources, construction | int  \n",
      "C24050_067E  | INDUSTRY BY OCCUPATION FOR THE | !! !! !! Estimate Total: Natural resources, construction | int  \n",
      "C24050_068E  | INDUSTRY BY OCCUPATION FOR THE | !! !! !! Estimate Total: Natural resources, construction | int  \n",
      "C24050_069E  | INDUSTRY BY OCCUPATION FOR THE | !! !! !! Estimate Total: Natural resources, construction | int  \n",
      "C24050_070E  | INDUSTRY BY OCCUPATION FOR THE | !! !! !! Estimate Total: Natural resources, construction | int  \n",
      "C24050_071E  | INDUSTRY BY OCCUPATION FOR THE | !! !! Estimate Total: Production, transportation, and ma | int  \n",
      "C24050_072E  | INDUSTRY BY OCCUPATION FOR THE | !! !! !! Estimate Total: Production, transportation, and | int  \n",
      "C24050_073E  | INDUSTRY BY OCCUPATION FOR THE | !! !! !! Estimate Total: Production, transportation, and | int  \n",
      "C24050_074E  | INDUSTRY BY OCCUPATION FOR THE | !! !! !! Estimate Total: Production, transportation, and | int  \n",
      "C24050_075E  | INDUSTRY BY OCCUPATION FOR THE | !! !! !! Estimate Total: Production, transportation, and | int  \n",
      "C24050_076E  | INDUSTRY BY OCCUPATION FOR THE | !! !! !! Estimate Total: Production, transportation, and | int  \n",
      "C24050_077E  | INDUSTRY BY OCCUPATION FOR THE | !! !! !! Estimate Total: Production, transportation, and | int  \n",
      "C24050_078E  | INDUSTRY BY OCCUPATION FOR THE | !! !! !! Estimate Total: Production, transportation, and | int  \n",
      "C24050_079E  | INDUSTRY BY OCCUPATION FOR THE | !! !! !! Estimate Total: Production, transportation, and | int  \n",
      "C24050_080E  | INDUSTRY BY OCCUPATION FOR THE | !! !! !! Estimate Total: Production, transportation, and | int  \n",
      "C24050_081E  | INDUSTRY BY OCCUPATION FOR THE | !! !! !! Estimate Total: Production, transportation, and | int  \n",
      "C24050_082E  | INDUSTRY BY OCCUPATION FOR THE | !! !! !! Estimate Total: Production, transportation, and | int  \n",
      "C24050_083E  | INDUSTRY BY OCCUPATION FOR THE | !! !! !! Estimate Total: Production, transportation, and | int  \n",
      "C24050_084E  | INDUSTRY BY OCCUPATION FOR THE | !! !! !! Estimate Total: Production, transportation, and | int  \n",
      "-------------------------------------------------------------------------------------------------------------------\n"
     ]
    }
   ],
   "source": [
    "censusdata.printtable(censusdata.censustable('acs5', year, 'C24050'))"
   ]
  },
  {
   "cell_type": "code",
   "execution_count": 192,
   "metadata": {},
   "outputs": [],
   "source": [
    "#Management, business, science, and arts occupations: white collar type 1 (J_W_1)\n",
    "#Service occupations: blue collar type 1 (J_B_1)\n",
    "#Sales and office occupations: white collar type 2 (J_W_2)\n",
    "#Natural resources, construction, and maintenance occupations: blue collar type 2 (J_B_2)\n",
    "#Production, transportation, and material moving occupations: blue collar type 3 (J_B_3)\n",
    "job_variables={'C24050_001E':'J_Tot','C24050_015E':'J_W_1','C24050_029E':'J_B_1','C24050_043E':'J_W_2',\n",
    "               'C24050_057E':\"J_B_2\", 'C24050_071E':'J_B_3'}"
   ]
  },
  {
   "cell_type": "code",
   "execution_count": 193,
   "metadata": {},
   "outputs": [],
   "source": [
    "def make_job_df(county_code):\n",
    "    job_data = censusdata.download('acs5', year, censusdata.censusgeo([('state', '36'), ('county', county_code), ('tract', '*')]),\n",
    "                                       list(job_variables.keys()),key=MY_API_KEY)\n",
    "    job_data.columns=job_data.columns.map(job_variables)\n",
    "    \n",
    "    job_data=add_FIP(job_data)\n",
    "    return job_data"
   ]
  },
  {
   "cell_type": "markdown",
   "metadata": {},
   "source": [
    "## Median HH income"
   ]
  },
  {
   "cell_type": "code",
   "execution_count": 194,
   "metadata": {},
   "outputs": [
    {
     "name": "stdout",
     "output_type": "stream",
     "text": [
      "Variable     | Table                          | Label                                                    | Type \n",
      "-------------------------------------------------------------------------------------------------------------------\n",
      "B19013_001E  | MEDIAN HOUSEHOLD INCOME IN THE | !! Estimate Median household income in the past 12 month | int  \n",
      "-------------------------------------------------------------------------------------------------------------------\n"
     ]
    }
   ],
   "source": [
    "censusdata.printtable(censusdata.censustable('acs5', year, 'B19013'))"
   ]
  },
  {
   "cell_type": "code",
   "execution_count": 195,
   "metadata": {},
   "outputs": [],
   "source": [
    "m_inc_variables={'B19013_001E':'Median_Inc'}"
   ]
  },
  {
   "cell_type": "code",
   "execution_count": 196,
   "metadata": {},
   "outputs": [],
   "source": [
    "def make_m_inc_df(county_code):\n",
    "    m_inc_data = censusdata.download('acs5', year, censusdata.censusgeo([('state', '36'), ('county', county_code), ('tract', '*')]),\n",
    "                                       list(m_inc_variables.keys()),key=MY_API_KEY)\n",
    "    m_inc_data.columns=m_inc_data.columns.map(m_inc_variables)\n",
    "    \n",
    "    m_inc_data=add_FIP(m_inc_data)\n",
    "    return m_inc_data"
   ]
  },
  {
   "cell_type": "markdown",
   "metadata": {},
   "source": [
    "## Aggregated HH income"
   ]
  },
  {
   "cell_type": "code",
   "execution_count": 197,
   "metadata": {},
   "outputs": [
    {
     "name": "stdout",
     "output_type": "stream",
     "text": [
      "Variable     | Table                          | Label                                                    | Type \n",
      "-------------------------------------------------------------------------------------------------------------------\n",
      "B19025_001E  | AGGREGATE HOUSEHOLD INCOME IN  | !! Estimate Aggregate household income in the past 12 mo | int  \n",
      "-------------------------------------------------------------------------------------------------------------------\n"
     ]
    }
   ],
   "source": [
    "censusdata.printtable(censusdata.censustable('acs5', year, 'B19025'))"
   ]
  },
  {
   "cell_type": "code",
   "execution_count": 198,
   "metadata": {},
   "outputs": [],
   "source": [
    "a_inc_variables={'B19025_001E':'Agg_Inc'}"
   ]
  },
  {
   "cell_type": "code",
   "execution_count": 199,
   "metadata": {},
   "outputs": [],
   "source": [
    "def make_a_inc_df(county_code):\n",
    "    a_inc_data = censusdata.download('acs5', year, censusdata.censusgeo([('state', '36'), ('county', county_code), ('tract', '*')]),\n",
    "                                       list(a_inc_variables.keys()),key=MY_API_KEY)\n",
    "    a_inc_data.columns=a_inc_data.columns.map(a_inc_variables)\n",
    "    \n",
    "    a_inc_data=add_FIP(a_inc_data)\n",
    "    return a_inc_data"
   ]
  },
  {
   "cell_type": "markdown",
   "metadata": {},
   "source": [
    "## Median age for workers 16 to 64 years"
   ]
  },
  {
   "cell_type": "code",
   "execution_count": 200,
   "metadata": {},
   "outputs": [
    {
     "name": "stdout",
     "output_type": "stream",
     "text": [
      "Variable     | Table                          | Label                                                    | Type \n",
      "-------------------------------------------------------------------------------------------------------------------\n",
      "B23013_001E  | MEDIAN AGE BY SEX FOR WORKERS  | !! !! Estimate Median age-- Total:                       | float\n",
      "B23013_002E  | MEDIAN AGE BY SEX FOR WORKERS  | !! !! !! Estimate Median age-- Total: Male               | float\n",
      "B23013_003E  | MEDIAN AGE BY SEX FOR WORKERS  | !! !! !! Estimate Median age-- Total: Female             | float\n",
      "-------------------------------------------------------------------------------------------------------------------\n"
     ]
    }
   ],
   "source": [
    "censusdata.printtable(censusdata.censustable('acs5', year, 'B23013'))"
   ]
  },
  {
   "cell_type": "code",
   "execution_count": 201,
   "metadata": {},
   "outputs": [],
   "source": [
    "m_age_wor_variables = {'B23013_001E':'M_Age_Wor'}"
   ]
  },
  {
   "cell_type": "code",
   "execution_count": 202,
   "metadata": {},
   "outputs": [],
   "source": [
    "def make_m_age_wor_df(county_code):\n",
    "    m_age_wor_data = censusdata.download('acs5', year, censusdata.censusgeo([('state', '36'), ('county', county_code), ('tract', '*')]),\n",
    "                                       list(m_age_wor_variables.keys()),key=MY_API_KEY)\n",
    "    m_age_wor_data.columns=m_age_wor_data.columns.map(m_age_wor_variables)\n",
    "    \n",
    "    m_age_wor_data=add_FIP(m_age_wor_data)\n",
    "    return m_age_wor_data"
   ]
  },
  {
   "cell_type": "markdown",
   "metadata": {},
   "source": [
    "## Medain age for all pop"
   ]
  },
  {
   "cell_type": "code",
   "execution_count": 203,
   "metadata": {},
   "outputs": [
    {
     "name": "stdout",
     "output_type": "stream",
     "text": [
      "Variable     | Table                          | Label                                                    | Type \n",
      "-------------------------------------------------------------------------------------------------------------------\n",
      "B01002_001E  | MEDIAN AGE BY SEX              | !! !! Estimate Median age -- Total:                      | float\n",
      "B01002_002E  | MEDIAN AGE BY SEX              | !! !! Estimate Median age -- Male                        | float\n",
      "B01002_003E  | MEDIAN AGE BY SEX              | !! !! Estimate Median age -- Female                      | float\n",
      "-------------------------------------------------------------------------------------------------------------------\n"
     ]
    }
   ],
   "source": [
    "censusdata.printtable(censusdata.censustable('acs5', year, 'B01002'))"
   ]
  },
  {
   "cell_type": "code",
   "execution_count": 204,
   "metadata": {},
   "outputs": [],
   "source": [
    "m_age_all_variables = {'B01002_001E':'M_Age_All'}"
   ]
  },
  {
   "cell_type": "code",
   "execution_count": 205,
   "metadata": {},
   "outputs": [],
   "source": [
    "def make_m_age_all_df(county_code):\n",
    "    m_age_all_data = censusdata.download('acs5', year, censusdata.censusgeo([('state', '36'), ('county', county_code), ('tract', '*')]),\n",
    "                                       list(m_age_all_variables.keys()),key=MY_API_KEY)\n",
    "    m_age_all_data.columns=m_age_all_data.columns.map(m_age_all_variables)\n",
    "    \n",
    "    m_age_all_data=add_FIP(m_age_all_data)\n",
    "    return m_age_all_data"
   ]
  },
  {
   "cell_type": "markdown",
   "metadata": {
    "id": "tQtE5vnQGi3f"
   },
   "source": [
    "## Race and population"
   ]
  },
  {
   "cell_type": "code",
   "execution_count": 206,
   "metadata": {
    "colab": {
     "base_uri": "https://localhost:8080/"
    },
    "id": "fVNQ0g-rTtQq",
    "outputId": "0b6f39cc-a3ef-4ae8-b418-317cebfdb5aa"
   },
   "outputs": [
    {
     "name": "stdout",
     "output_type": "stream",
     "text": [
      "Variable     | Table                          | Label                                                    | Type \n",
      "-------------------------------------------------------------------------------------------------------------------\n",
      "B03002_001E  | HISPANIC OR LATINO ORIGIN BY R | !! Estimate Total:                                       | int  \n",
      "B03002_002E  | HISPANIC OR LATINO ORIGIN BY R | !! !! Estimate Total: Not Hispanic or Latino:            | int  \n",
      "B03002_003E  | HISPANIC OR LATINO ORIGIN BY R | !! !! !! Estimate Total: Not Hispanic or Latino: White a | int  \n",
      "B03002_004E  | HISPANIC OR LATINO ORIGIN BY R | !! !! !! Estimate Total: Not Hispanic or Latino: Black o | int  \n",
      "B03002_005E  | HISPANIC OR LATINO ORIGIN BY R | !! !! !! Estimate Total: Not Hispanic or Latino: America | int  \n",
      "B03002_006E  | HISPANIC OR LATINO ORIGIN BY R | !! !! !! Estimate Total: Not Hispanic or Latino: Asian a | int  \n",
      "B03002_007E  | HISPANIC OR LATINO ORIGIN BY R | !! !! !! Estimate Total: Not Hispanic or Latino: Native  | int  \n",
      "B03002_008E  | HISPANIC OR LATINO ORIGIN BY R | !! !! !! Estimate Total: Not Hispanic or Latino: Some ot | int  \n",
      "B03002_009E  | HISPANIC OR LATINO ORIGIN BY R | !! !! !! Estimate Total: Not Hispanic or Latino: Two or  | int  \n",
      "B03002_010E  | HISPANIC OR LATINO ORIGIN BY R | !! !! !! !! Estimate Total: Not Hispanic or Latino: Two  | int  \n",
      "B03002_011E  | HISPANIC OR LATINO ORIGIN BY R | !! !! !! !! Estimate Total: Not Hispanic or Latino: Two  | int  \n",
      "B03002_012E  | HISPANIC OR LATINO ORIGIN BY R | !! !! Estimate Total: Hispanic or Latino:                | int  \n",
      "B03002_013E  | HISPANIC OR LATINO ORIGIN BY R | !! !! !! Estimate Total: Hispanic or Latino: White alone | int  \n",
      "B03002_014E  | HISPANIC OR LATINO ORIGIN BY R | !! !! !! Estimate Total: Hispanic or Latino: Black or Af | int  \n",
      "B03002_015E  | HISPANIC OR LATINO ORIGIN BY R | !! !! !! Estimate Total: Hispanic or Latino: American In | int  \n",
      "B03002_016E  | HISPANIC OR LATINO ORIGIN BY R | !! !! !! Estimate Total: Hispanic or Latino: Asian alone | int  \n",
      "B03002_017E  | HISPANIC OR LATINO ORIGIN BY R | !! !! !! Estimate Total: Hispanic or Latino: Native Hawa | int  \n",
      "B03002_018E  | HISPANIC OR LATINO ORIGIN BY R | !! !! !! Estimate Total: Hispanic or Latino: Some other  | int  \n",
      "B03002_019E  | HISPANIC OR LATINO ORIGIN BY R | !! !! !! Estimate Total: Hispanic or Latino: Two or more | int  \n",
      "B03002_020E  | HISPANIC OR LATINO ORIGIN BY R | !! !! !! !! Estimate Total: Hispanic or Latino: Two or m | int  \n",
      "B03002_021E  | HISPANIC OR LATINO ORIGIN BY R | !! !! !! !! Estimate Total: Hispanic or Latino: Two or m | int  \n",
      "-------------------------------------------------------------------------------------------------------------------\n"
     ]
    }
   ],
   "source": [
    "#Hsu designates five groups: Asian, Black, Hispanic, White, and no majority groups.\n",
    "censusdata.printtable(censusdata.censustable('acs5', year, 'B03002'))"
   ]
  },
  {
   "cell_type": "code",
   "execution_count": 207,
   "metadata": {
    "id": "0NSAlK5QhRDk"
   },
   "outputs": [],
   "source": [
    "race_variables={'B03002_001E':'Race_Total','B03002_003E':'White','B03002_004E':'Black','B03002_012E':'Hispanic_Latino',\n",
    "               'B03002_006E':\"Asian\", 'B03002_009E':'Mixed'}\n",
    "#total-white-black-hispanic-asian-mixed=minor races"
   ]
  },
  {
   "cell_type": "code",
   "execution_count": 208,
   "metadata": {
    "id": "VfyFe1r8VuNV"
   },
   "outputs": [],
   "source": [
    "def make_race_df(county_code):\n",
    "    race_data = censusdata.download('acs5', year, censusdata.censusgeo([('state', '36'), ('county', county_code), ('tract', '*')]),\n",
    "                                       list(race_variables.keys()),key=MY_API_KEY)\n",
    "    race_data.columns=race_data.columns.map(race_variables)\n",
    "    \n",
    "    race_data=add_FIP(race_data)\n",
    "    return race_data"
   ]
  },
  {
   "cell_type": "code",
   "execution_count": 209,
   "metadata": {
    "colab": {
     "base_uri": "https://localhost:8080/"
    },
    "id": "_M6CzqvpWPwt",
    "outputId": "3fd159e5-e221-4f2a-eb19-cc728b96b154"
   },
   "outputs": [
    {
     "name": "stdout",
     "output_type": "stream",
     "text": [
      "Variable     | Table                          | Label                                                    | Type \n",
      "-------------------------------------------------------------------------------------------------------------------\n",
      "B19013_001E  | MEDIAN HOUSEHOLD INCOME IN THE | !! Estimate Median household income in the past 12 month | int  \n",
      "-------------------------------------------------------------------------------------------------------------------\n"
     ]
    }
   ],
   "source": [
    "censusdata.printtable(censusdata.censustable('acs5', year, 'B19013'))"
   ]
  },
  {
   "cell_type": "code",
   "execution_count": 210,
   "metadata": {
    "id": "4EUnRSpWWTKl"
   },
   "outputs": [],
   "source": [
    "def make_income_df(county_code):\n",
    "    income_data=censusdata.download('acs5', year, censusdata.censusgeo([('state', '36'), ('county', county_code), ('tract', '*')]),\n",
    "                                       ['B19013_001E'],key=MY_API_KEY)\n",
    "    income_data.columns=['Median_Income']\n",
    "    income_data=add_FIP(income_data)\n",
    "    \n",
    "\n",
    "    return income_data"
   ]
  },
  {
   "cell_type": "markdown",
   "metadata": {
    "id": "Jj75GayjWhRG"
   },
   "source": [
    "## Education attainment"
   ]
  },
  {
   "cell_type": "markdown",
   "metadata": {
    "id": "HvT1UZhzvETy"
   },
   "source": [
    "https://censusreporter.org/tables/B15001/"
   ]
  },
  {
   "cell_type": "code",
   "execution_count": 211,
   "metadata": {
    "colab": {
     "base_uri": "https://localhost:8080/"
    },
    "id": "rqHw6qruWo4K",
    "outputId": "e028480f-9393-485c-9ed3-27d1f693a3a3"
   },
   "outputs": [
    {
     "name": "stdout",
     "output_type": "stream",
     "text": [
      "Variable     | Table                          | Label                                                    | Type \n",
      "-------------------------------------------------------------------------------------------------------------------\n",
      "B15001_001E  | SEX BY AGE BY EDUCATIONAL ATTA | !! Estimate Total:                                       | int  \n",
      "B15001_002E  | SEX BY AGE BY EDUCATIONAL ATTA | !! !! Estimate Total: Male:                              | int  \n",
      "B15001_003E  | SEX BY AGE BY EDUCATIONAL ATTA | !! !! !! Estimate Total: Male: 18 to 24 years:           | int  \n",
      "B15001_004E  | SEX BY AGE BY EDUCATIONAL ATTA | !! !! !! !! Estimate Total: Male: 18 to 24 years: Less t | int  \n",
      "B15001_005E  | SEX BY AGE BY EDUCATIONAL ATTA | !! !! !! !! Estimate Total: Male: 18 to 24 years: 9th to | int  \n",
      "B15001_006E  | SEX BY AGE BY EDUCATIONAL ATTA | !! !! !! !! Estimate Total: Male: 18 to 24 years: High s | int  \n",
      "B15001_007E  | SEX BY AGE BY EDUCATIONAL ATTA | !! !! !! !! Estimate Total: Male: 18 to 24 years: Some c | int  \n",
      "B15001_008E  | SEX BY AGE BY EDUCATIONAL ATTA | !! !! !! !! Estimate Total: Male: 18 to 24 years: Associ | int  \n",
      "B15001_009E  | SEX BY AGE BY EDUCATIONAL ATTA | !! !! !! !! Estimate Total: Male: 18 to 24 years: Bachel | int  \n",
      "B15001_010E  | SEX BY AGE BY EDUCATIONAL ATTA | !! !! !! !! Estimate Total: Male: 18 to 24 years: Gradua | int  \n",
      "B15001_011E  | SEX BY AGE BY EDUCATIONAL ATTA | !! !! !! Estimate Total: Male: 25 to 34 years:           | int  \n",
      "B15001_012E  | SEX BY AGE BY EDUCATIONAL ATTA | !! !! !! !! Estimate Total: Male: 25 to 34 years: Less t | int  \n",
      "B15001_013E  | SEX BY AGE BY EDUCATIONAL ATTA | !! !! !! !! Estimate Total: Male: 25 to 34 years: 9th to | int  \n",
      "B15001_014E  | SEX BY AGE BY EDUCATIONAL ATTA | !! !! !! !! Estimate Total: Male: 25 to 34 years: High s | int  \n",
      "B15001_015E  | SEX BY AGE BY EDUCATIONAL ATTA | !! !! !! !! Estimate Total: Male: 25 to 34 years: Some c | int  \n",
      "B15001_016E  | SEX BY AGE BY EDUCATIONAL ATTA | !! !! !! !! Estimate Total: Male: 25 to 34 years: Associ | int  \n",
      "B15001_017E  | SEX BY AGE BY EDUCATIONAL ATTA | !! !! !! !! Estimate Total: Male: 25 to 34 years: Bachel | int  \n",
      "B15001_018E  | SEX BY AGE BY EDUCATIONAL ATTA | !! !! !! !! Estimate Total: Male: 25 to 34 years: Gradua | int  \n",
      "B15001_019E  | SEX BY AGE BY EDUCATIONAL ATTA | !! !! !! Estimate Total: Male: 35 to 44 years:           | int  \n",
      "B15001_020E  | SEX BY AGE BY EDUCATIONAL ATTA | !! !! !! !! Estimate Total: Male: 35 to 44 years: Less t | int  \n",
      "B15001_021E  | SEX BY AGE BY EDUCATIONAL ATTA | !! !! !! !! Estimate Total: Male: 35 to 44 years: 9th to | int  \n",
      "B15001_022E  | SEX BY AGE BY EDUCATIONAL ATTA | !! !! !! !! Estimate Total: Male: 35 to 44 years: High s | int  \n",
      "B15001_023E  | SEX BY AGE BY EDUCATIONAL ATTA | !! !! !! !! Estimate Total: Male: 35 to 44 years: Some c | int  \n",
      "B15001_024E  | SEX BY AGE BY EDUCATIONAL ATTA | !! !! !! !! Estimate Total: Male: 35 to 44 years: Associ | int  \n",
      "B15001_025E  | SEX BY AGE BY EDUCATIONAL ATTA | !! !! !! !! Estimate Total: Male: 35 to 44 years: Bachel | int  \n",
      "B15001_026E  | SEX BY AGE BY EDUCATIONAL ATTA | !! !! !! !! Estimate Total: Male: 35 to 44 years: Gradua | int  \n",
      "B15001_027E  | SEX BY AGE BY EDUCATIONAL ATTA | !! !! !! Estimate Total: Male: 45 to 64 years:           | int  \n",
      "B15001_028E  | SEX BY AGE BY EDUCATIONAL ATTA | !! !! !! !! Estimate Total: Male: 45 to 64 years: Less t | int  \n",
      "B15001_029E  | SEX BY AGE BY EDUCATIONAL ATTA | !! !! !! !! Estimate Total: Male: 45 to 64 years: 9th to | int  \n",
      "B15001_030E  | SEX BY AGE BY EDUCATIONAL ATTA | !! !! !! !! Estimate Total: Male: 45 to 64 years: High s | int  \n",
      "B15001_031E  | SEX BY AGE BY EDUCATIONAL ATTA | !! !! !! !! Estimate Total: Male: 45 to 64 years: Some c | int  \n",
      "B15001_032E  | SEX BY AGE BY EDUCATIONAL ATTA | !! !! !! !! Estimate Total: Male: 45 to 64 years: Associ | int  \n",
      "B15001_033E  | SEX BY AGE BY EDUCATIONAL ATTA | !! !! !! !! Estimate Total: Male: 45 to 64 years: Bachel | int  \n",
      "B15001_034E  | SEX BY AGE BY EDUCATIONAL ATTA | !! !! !! !! Estimate Total: Male: 45 to 64 years: Gradua | int  \n",
      "B15001_035E  | SEX BY AGE BY EDUCATIONAL ATTA | !! !! !! Estimate Total: Male: 65 years and over:        | int  \n",
      "B15001_036E  | SEX BY AGE BY EDUCATIONAL ATTA | !! !! !! !! Estimate Total: Male: 65 years and over: Les | int  \n",
      "B15001_037E  | SEX BY AGE BY EDUCATIONAL ATTA | !! !! !! !! Estimate Total: Male: 65 years and over: 9th | int  \n",
      "B15001_038E  | SEX BY AGE BY EDUCATIONAL ATTA | !! !! !! !! Estimate Total: Male: 65 years and over: Hig | int  \n",
      "B15001_039E  | SEX BY AGE BY EDUCATIONAL ATTA | !! !! !! !! Estimate Total: Male: 65 years and over: Som | int  \n",
      "B15001_040E  | SEX BY AGE BY EDUCATIONAL ATTA | !! !! !! !! Estimate Total: Male: 65 years and over: Ass | int  \n",
      "B15001_041E  | SEX BY AGE BY EDUCATIONAL ATTA | !! !! !! !! Estimate Total: Male: 65 years and over: Bac | int  \n",
      "B15001_042E  | SEX BY AGE BY EDUCATIONAL ATTA | !! !! !! !! Estimate Total: Male: 65 years and over: Gra | int  \n",
      "B15001_043E  | SEX BY AGE BY EDUCATIONAL ATTA | !! !! Estimate Total: Female:                            | int  \n",
      "B15001_044E  | SEX BY AGE BY EDUCATIONAL ATTA | !! !! !! Estimate Total: Female: 18 to 24 years:         | int  \n",
      "B15001_045E  | SEX BY AGE BY EDUCATIONAL ATTA | !! !! !! !! Estimate Total: Female: 18 to 24 years: Less | int  \n",
      "B15001_046E  | SEX BY AGE BY EDUCATIONAL ATTA | !! !! !! !! Estimate Total: Female: 18 to 24 years: 9th  | int  \n",
      "B15001_047E  | SEX BY AGE BY EDUCATIONAL ATTA | !! !! !! !! Estimate Total: Female: 18 to 24 years: High | int  \n",
      "B15001_048E  | SEX BY AGE BY EDUCATIONAL ATTA | !! !! !! !! Estimate Total: Female: 18 to 24 years: Some | int  \n",
      "B15001_049E  | SEX BY AGE BY EDUCATIONAL ATTA | !! !! !! !! Estimate Total: Female: 18 to 24 years: Asso | int  \n",
      "B15001_050E  | SEX BY AGE BY EDUCATIONAL ATTA | !! !! !! !! Estimate Total: Female: 18 to 24 years: Bach | int  \n",
      "B15001_051E  | SEX BY AGE BY EDUCATIONAL ATTA | !! !! !! !! Estimate Total: Female: 18 to 24 years: Grad | int  \n",
      "B15001_052E  | SEX BY AGE BY EDUCATIONAL ATTA | !! !! !! Estimate Total: Female: 25 to 34 years:         | int  \n",
      "B15001_053E  | SEX BY AGE BY EDUCATIONAL ATTA | !! !! !! !! Estimate Total: Female: 25 to 34 years: Less | int  \n",
      "B15001_054E  | SEX BY AGE BY EDUCATIONAL ATTA | !! !! !! !! Estimate Total: Female: 25 to 34 years: 9th  | int  \n",
      "B15001_055E  | SEX BY AGE BY EDUCATIONAL ATTA | !! !! !! !! Estimate Total: Female: 25 to 34 years: High | int  \n",
      "B15001_056E  | SEX BY AGE BY EDUCATIONAL ATTA | !! !! !! !! Estimate Total: Female: 25 to 34 years: Some | int  \n",
      "B15001_057E  | SEX BY AGE BY EDUCATIONAL ATTA | !! !! !! !! Estimate Total: Female: 25 to 34 years: Asso | int  \n",
      "B15001_058E  | SEX BY AGE BY EDUCATIONAL ATTA | !! !! !! !! Estimate Total: Female: 25 to 34 years: Bach | int  \n",
      "B15001_059E  | SEX BY AGE BY EDUCATIONAL ATTA | !! !! !! !! Estimate Total: Female: 25 to 34 years: Grad | int  \n",
      "B15001_060E  | SEX BY AGE BY EDUCATIONAL ATTA | !! !! !! Estimate Total: Female: 35 to 44 years:         | int  \n",
      "B15001_061E  | SEX BY AGE BY EDUCATIONAL ATTA | !! !! !! !! Estimate Total: Female: 35 to 44 years: Less | int  \n",
      "B15001_062E  | SEX BY AGE BY EDUCATIONAL ATTA | !! !! !! !! Estimate Total: Female: 35 to 44 years: 9th  | int  \n",
      "B15001_063E  | SEX BY AGE BY EDUCATIONAL ATTA | !! !! !! !! Estimate Total: Female: 35 to 44 years: High | int  \n",
      "B15001_064E  | SEX BY AGE BY EDUCATIONAL ATTA | !! !! !! !! Estimate Total: Female: 35 to 44 years: Some | int  \n",
      "B15001_065E  | SEX BY AGE BY EDUCATIONAL ATTA | !! !! !! !! Estimate Total: Female: 35 to 44 years: Asso | int  \n",
      "B15001_066E  | SEX BY AGE BY EDUCATIONAL ATTA | !! !! !! !! Estimate Total: Female: 35 to 44 years: Bach | int  \n",
      "B15001_067E  | SEX BY AGE BY EDUCATIONAL ATTA | !! !! !! !! Estimate Total: Female: 35 to 44 years: Grad | int  \n",
      "B15001_068E  | SEX BY AGE BY EDUCATIONAL ATTA | !! !! !! Estimate Total: Female: 45 to 64 years:         | int  \n",
      "B15001_069E  | SEX BY AGE BY EDUCATIONAL ATTA | !! !! !! !! Estimate Total: Female: 45 to 64 years: Less | int  \n",
      "B15001_070E  | SEX BY AGE BY EDUCATIONAL ATTA | !! !! !! !! Estimate Total: Female: 45 to 64 years: 9th  | int  \n",
      "B15001_071E  | SEX BY AGE BY EDUCATIONAL ATTA | !! !! !! !! Estimate Total: Female: 45 to 64 years: High | int  \n",
      "B15001_072E  | SEX BY AGE BY EDUCATIONAL ATTA | !! !! !! !! Estimate Total: Female: 45 to 64 years: Some | int  \n",
      "B15001_073E  | SEX BY AGE BY EDUCATIONAL ATTA | !! !! !! !! Estimate Total: Female: 45 to 64 years: Asso | int  \n",
      "B15001_074E  | SEX BY AGE BY EDUCATIONAL ATTA | !! !! !! !! Estimate Total: Female: 45 to 64 years: Bach | int  \n",
      "B15001_075E  | SEX BY AGE BY EDUCATIONAL ATTA | !! !! !! !! Estimate Total: Female: 45 to 64 years: Grad | int  \n",
      "B15001_076E  | SEX BY AGE BY EDUCATIONAL ATTA | !! !! !! Estimate Total: Female: 65 years and over:      | int  \n",
      "B15001_077E  | SEX BY AGE BY EDUCATIONAL ATTA | !! !! !! !! Estimate Total: Female: 65 years and over: L | int  \n",
      "B15001_078E  | SEX BY AGE BY EDUCATIONAL ATTA | !! !! !! !! Estimate Total: Female: 65 years and over: 9 | int  \n",
      "B15001_079E  | SEX BY AGE BY EDUCATIONAL ATTA | !! !! !! !! Estimate Total: Female: 65 years and over: H | int  \n",
      "B15001_080E  | SEX BY AGE BY EDUCATIONAL ATTA | !! !! !! !! Estimate Total: Female: 65 years and over: S | int  \n",
      "B15001_081E  | SEX BY AGE BY EDUCATIONAL ATTA | !! !! !! !! Estimate Total: Female: 65 years and over: A | int  \n",
      "B15001_082E  | SEX BY AGE BY EDUCATIONAL ATTA | !! !! !! !! Estimate Total: Female: 65 years and over: B | int  \n",
      "B15001_083E  | SEX BY AGE BY EDUCATIONAL ATTA | !! !! !! !! Estimate Total: Female: 65 years and over: G | int  \n",
      "-------------------------------------------------------------------------------------------------------------------\n"
     ]
    }
   ],
   "source": [
    "censusdata.printtable(censusdata.censustable('acs5', year, 'B15001'))"
   ]
  },
  {
   "cell_type": "code",
   "execution_count": 212,
   "metadata": {
    "id": "srq4oeSQXYyH"
   },
   "outputs": [],
   "source": [
    "#high school and above\n",
    "#bachelor's and above\n",
    "#edu_tot as denominator\n",
    "edu_variables = {'B15001_001E':'Edu_Tot', 'B15001_006E':'18m_hs', 'B15001_007E':'18m_some_c',\n",
    "                 'B15001_008E':'18m_ass', 'B15001_009E':'18m_bac', 'B15001_010E':'18m_grad',\n",
    "                 'B15001_014E':'25m_hs', 'B15001_015E':'25m_some_c', 'B15001_016E':'25m_ass',\n",
    "                 'B15001_017E':'25m_bac', 'B15001_018E':'25m_grad',\n",
    "                 'B15001_022E':'35m_hs', 'B15001_023E':'35m_some_c', 'B15001_024E':'35m_ass',\n",
    "                 'B15001_025E':'35m_bac', 'B15001_026E':'35m_grad',\n",
    "                 'B15001_030E':'45m_hs', 'B15001_031E':'45m_some_c', 'B15001_032E':'45m_ass',\n",
    "                 'B15001_033E':'45m_bac', 'B15001_034E':'45m_grad',\n",
    "                 'B15001_038E':'65m_hs', 'B15001_039E':'65m_some_c', 'B15001_040E':'65m_ass',\n",
    "                 'B15001_041E':'65m_bac', 'B15001_042E':'65m_grad',\n",
    "                 'B15001_047E':'18f_hs', 'B15001_048E':'18f_some_c', 'B15001_049E':'18f_ass', \n",
    "                 'B15001_050E':'18f_bac', 'B15001_051E':'18f_grad',\n",
    "                 'B15001_055E':'25f_hs', 'B15001_056E':'25f_some_c', 'B15001_057E':'25f_ass',\n",
    "                 'B15001_058E':'25f_bac', 'B15001_059E':'25f_grad',\n",
    "                 'B15001_063E':'35f_hs', 'B15001_064E':'35f_some_c', 'B15001_065E':'35f_ass',\n",
    "                 'B15001_066E':'35f_bac', 'B15001_067E':'35f_grad',\n",
    "                 'B15001_071E':'45f_hs', 'B15001_072E':'45f_some_c', 'B15001_073E':'45f_ass',\n",
    "                 'B15001_074E':'45f_bac', 'B15001_075E':'45f_grad',\n",
    "                 'B15001_079E':'65f_hs', 'B15001_080E':'65f_some_c', 'B15001_081E':'65f_ass',\n",
    "                 'B15001_082E':'65f_bac', 'B15001_083E':'65f_grad'}"
   ]
  },
  {
   "cell_type": "code",
   "execution_count": 213,
   "metadata": {
    "id": "4SlmfYuzY4mK"
   },
   "outputs": [],
   "source": [
    "def make_edu_df(county_code):\n",
    "    edu_data = censusdata.download('acs5', year, censusdata.censusgeo([('state', '36'), ('county', county_code), ('tract', '*')]),\n",
    "                                       list(edu_variables.keys()), key=MY_API_KEY)\n",
    "    edu_data.columns=edu_data.columns.map(edu_variables)\n",
    "    \n",
    "    edu_data=add_FIP(edu_data)\n",
    "    return edu_data"
   ]
  },
  {
   "cell_type": "markdown",
   "metadata": {
    "id": "WcaLmR5IWjqH"
   },
   "source": [
    "## Prep for individual dataframes"
   ]
  },
  {
   "cell_type": "code",
   "execution_count": 214,
   "metadata": {
    "id": "Aytvo-9RWpYA"
   },
   "outputs": [],
   "source": [
    "job = []\n",
    "m_inc = []\n",
    "a_inc = []\n",
    "m_age_wor = []\n",
    "m_age_all = []\n",
    "race = []\n",
    "edu = []\n",
    "commute=[]\n",
    "\n",
    "for county in county_list:\n",
    "    job.append(make_job_df(county))\n",
    "    m_inc.append(make_m_inc_df(county))\n",
    "    a_inc.append(make_a_inc_df(county))\n",
    "    m_age_wor.append(make_m_age_wor_df(county))\n",
    "    m_age_all.append(make_m_age_all_df(county))\n",
    "    race.append(make_race_df(county))\n",
    "    edu.append(make_edu_df(county))\n",
    "    commute.append(make_commute_mode_df(county))"
   ]
  },
  {
   "cell_type": "markdown",
   "metadata": {},
   "source": [
    "## Dataframe for Commute"
   ]
  },
  {
   "cell_type": "code",
   "execution_count": 215,
   "metadata": {},
   "outputs": [
    {
     "data": {
      "text/html": [
       "<div>\n",
       "<style scoped>\n",
       "    .dataframe tbody tr th:only-of-type {\n",
       "        vertical-align: middle;\n",
       "    }\n",
       "\n",
       "    .dataframe tbody tr th {\n",
       "        vertical-align: top;\n",
       "    }\n",
       "\n",
       "    .dataframe thead th {\n",
       "        text-align: right;\n",
       "    }\n",
       "</style>\n",
       "<table border=\"1\" class=\"dataframe\">\n",
       "  <thead>\n",
       "    <tr style=\"text-align: right;\">\n",
       "      <th></th>\n",
       "      <th>Tot_commuters</th>\n",
       "      <th>Drive</th>\n",
       "      <th>Transit_all</th>\n",
       "      <th>Bus</th>\n",
       "      <th>Subway</th>\n",
       "      <th>County</th>\n",
       "      <th>Tract</th>\n",
       "      <th>Perc_Drive</th>\n",
       "      <th>Perc_Transit_all</th>\n",
       "      <th>Perc_Bus</th>\n",
       "      <th>Perc_Subway</th>\n",
       "    </tr>\n",
       "  </thead>\n",
       "  <tbody>\n",
       "    <tr>\n",
       "      <th>0</th>\n",
       "      <td>1929</td>\n",
       "      <td>341</td>\n",
       "      <td>1338</td>\n",
       "      <td>215</td>\n",
       "      <td>1123</td>\n",
       "      <td>36005</td>\n",
       "      <td>36005020000</td>\n",
       "      <td>17.677553</td>\n",
       "      <td>69.362364</td>\n",
       "      <td>11.145671</td>\n",
       "      <td>58.216693</td>\n",
       "    </tr>\n",
       "    <tr>\n",
       "      <th>1</th>\n",
       "      <td>2333</td>\n",
       "      <td>391</td>\n",
       "      <td>1527</td>\n",
       "      <td>638</td>\n",
       "      <td>889</td>\n",
       "      <td>36005</td>\n",
       "      <td>36005020501</td>\n",
       "      <td>16.759537</td>\n",
       "      <td>65.452207</td>\n",
       "      <td>27.346764</td>\n",
       "      <td>38.105444</td>\n",
       "    </tr>\n",
       "  </tbody>\n",
       "</table>\n",
       "</div>"
      ],
      "text/plain": [
       "   Tot_commuters  Drive  Transit_all  Bus  Subway County        Tract  \\\n",
       "0           1929    341         1338  215    1123  36005  36005020000   \n",
       "1           2333    391         1527  638     889  36005  36005020501   \n",
       "\n",
       "   Perc_Drive  Perc_Transit_all   Perc_Bus  Perc_Subway  \n",
       "0   17.677553         69.362364  11.145671    58.216693  \n",
       "1   16.759537         65.452207  27.346764    38.105444  "
      ]
     },
     "execution_count": 215,
     "metadata": {},
     "output_type": "execute_result"
    }
   ],
   "source": [
    "commute_col = list(commute_variables.values())+['County', 'Tract']\n",
    "\n",
    "commute_d = pd.DataFrame()\n",
    "commute_df = pd.concat([commute_d, (pd.DataFrame(data=commute[0], columns=commute_col)),\n",
    "                     (pd.DataFrame(data=commute[1], columns=commute_col)),\n",
    "                     (pd.DataFrame(data=commute[2], columns=commute_col)),\n",
    "                     (pd.DataFrame(data=commute[3], columns=commute_col))]).reset_index(drop=True)\n",
    "modes=['Drive', 'Transit_all', 'Bus', 'Subway']\n",
    "for i in range(len(modes)):\n",
    "      commute_df['Perc_{}'.format(modes[i])]=(commute_df['{}'.format(modes[i])]/commute_df['Tot_commuters'])*100\n",
    "commute_df.head(2)"
   ]
  },
  {
   "cell_type": "markdown",
   "metadata": {},
   "source": [
    "## Dataframe for job type"
   ]
  },
  {
   "cell_type": "code",
   "execution_count": 216,
   "metadata": {},
   "outputs": [
    {
     "data": {
      "text/html": [
       "<div>\n",
       "<style scoped>\n",
       "    .dataframe tbody tr th:only-of-type {\n",
       "        vertical-align: middle;\n",
       "    }\n",
       "\n",
       "    .dataframe tbody tr th {\n",
       "        vertical-align: top;\n",
       "    }\n",
       "\n",
       "    .dataframe thead th {\n",
       "        text-align: right;\n",
       "    }\n",
       "</style>\n",
       "<table border=\"1\" class=\"dataframe\">\n",
       "  <thead>\n",
       "    <tr style=\"text-align: right;\">\n",
       "      <th></th>\n",
       "      <th>J_Tot</th>\n",
       "      <th>J_W_1</th>\n",
       "      <th>J_B_1</th>\n",
       "      <th>J_W_2</th>\n",
       "      <th>J_B_2</th>\n",
       "      <th>J_B_3</th>\n",
       "      <th>County</th>\n",
       "      <th>Tract</th>\n",
       "    </tr>\n",
       "  </thead>\n",
       "  <tbody>\n",
       "    <tr>\n",
       "      <th>0</th>\n",
       "      <td>1934</td>\n",
       "      <td>420</td>\n",
       "      <td>622</td>\n",
       "      <td>383</td>\n",
       "      <td>175</td>\n",
       "      <td>334</td>\n",
       "      <td>36005</td>\n",
       "      <td>36005020000</td>\n",
       "    </tr>\n",
       "    <tr>\n",
       "      <th>1</th>\n",
       "      <td>2333</td>\n",
       "      <td>562</td>\n",
       "      <td>737</td>\n",
       "      <td>663</td>\n",
       "      <td>225</td>\n",
       "      <td>146</td>\n",
       "      <td>36005</td>\n",
       "      <td>36005020501</td>\n",
       "    </tr>\n",
       "  </tbody>\n",
       "</table>\n",
       "</div>"
      ],
      "text/plain": [
       "   J_Tot  J_W_1  J_B_1  J_W_2  J_B_2  J_B_3 County        Tract\n",
       "0   1934    420    622    383    175    334  36005  36005020000\n",
       "1   2333    562    737    663    225    146  36005  36005020501"
      ]
     },
     "execution_count": 216,
     "metadata": {},
     "output_type": "execute_result"
    }
   ],
   "source": [
    "job_col = list(job_variables.values())+['County', 'Tract']\n",
    "\n",
    "job_d = pd.DataFrame()\n",
    "job_df = pd.concat([job_d, (pd.DataFrame(data=job[0], columns=job_col)),\n",
    "                     (pd.DataFrame(data=job[1], columns=job_col)),\n",
    "                     (pd.DataFrame(data=job[2], columns=job_col)),\n",
    "                     (pd.DataFrame(data=job[3], columns=job_col))]).reset_index(drop=True)\n",
    "job_df.head(2)"
   ]
  },
  {
   "cell_type": "markdown",
   "metadata": {},
   "source": [
    "## Dataframe for median hh income"
   ]
  },
  {
   "cell_type": "code",
   "execution_count": 217,
   "metadata": {},
   "outputs": [
    {
     "data": {
      "text/html": [
       "<div>\n",
       "<style scoped>\n",
       "    .dataframe tbody tr th:only-of-type {\n",
       "        vertical-align: middle;\n",
       "    }\n",
       "\n",
       "    .dataframe tbody tr th {\n",
       "        vertical-align: top;\n",
       "    }\n",
       "\n",
       "    .dataframe thead th {\n",
       "        text-align: right;\n",
       "    }\n",
       "</style>\n",
       "<table border=\"1\" class=\"dataframe\">\n",
       "  <thead>\n",
       "    <tr style=\"text-align: right;\">\n",
       "      <th></th>\n",
       "      <th>Median_Inc</th>\n",
       "      <th>County</th>\n",
       "      <th>Tract</th>\n",
       "    </tr>\n",
       "  </thead>\n",
       "  <tbody>\n",
       "    <tr>\n",
       "      <th>0</th>\n",
       "      <td>40184</td>\n",
       "      <td>36005</td>\n",
       "      <td>36005020000</td>\n",
       "    </tr>\n",
       "    <tr>\n",
       "      <th>1</th>\n",
       "      <td>17601</td>\n",
       "      <td>36005</td>\n",
       "      <td>36005020501</td>\n",
       "    </tr>\n",
       "  </tbody>\n",
       "</table>\n",
       "</div>"
      ],
      "text/plain": [
       "   Median_Inc County        Tract\n",
       "0       40184  36005  36005020000\n",
       "1       17601  36005  36005020501"
      ]
     },
     "execution_count": 217,
     "metadata": {},
     "output_type": "execute_result"
    }
   ],
   "source": [
    "m_inc_col = list(m_inc_variables.values())+['County', 'Tract']\n",
    "\n",
    "m_inc_d = pd.DataFrame()\n",
    "m_inc_df = pd.concat([m_inc_d, (pd.DataFrame(data=m_inc[0], columns=m_inc_col)),\n",
    "                     (pd.DataFrame(data=m_inc[1], columns=m_inc_col)),\n",
    "                     (pd.DataFrame(data=m_inc[2], columns=m_inc_col)),\n",
    "                     (pd.DataFrame(data=m_inc[3], columns=m_inc_col))]).reset_index(drop=True)\n",
    "m_inc_df.head(2)"
   ]
  },
  {
   "cell_type": "markdown",
   "metadata": {},
   "source": [
    "## Dataframe for aggregated hh income"
   ]
  },
  {
   "cell_type": "code",
   "execution_count": 218,
   "metadata": {},
   "outputs": [
    {
     "data": {
      "text/html": [
       "<div>\n",
       "<style scoped>\n",
       "    .dataframe tbody tr th:only-of-type {\n",
       "        vertical-align: middle;\n",
       "    }\n",
       "\n",
       "    .dataframe tbody tr th {\n",
       "        vertical-align: top;\n",
       "    }\n",
       "\n",
       "    .dataframe thead th {\n",
       "        text-align: right;\n",
       "    }\n",
       "</style>\n",
       "<table border=\"1\" class=\"dataframe\">\n",
       "  <thead>\n",
       "    <tr style=\"text-align: right;\">\n",
       "      <th></th>\n",
       "      <th>Agg_Inc</th>\n",
       "      <th>County</th>\n",
       "      <th>Tract</th>\n",
       "    </tr>\n",
       "  </thead>\n",
       "  <tbody>\n",
       "    <tr>\n",
       "      <th>0</th>\n",
       "      <td>78328200.0</td>\n",
       "      <td>36005</td>\n",
       "      <td>36005020000</td>\n",
       "    </tr>\n",
       "    <tr>\n",
       "      <th>1</th>\n",
       "      <td>101308000.0</td>\n",
       "      <td>36005</td>\n",
       "      <td>36005020501</td>\n",
       "    </tr>\n",
       "  </tbody>\n",
       "</table>\n",
       "</div>"
      ],
      "text/plain": [
       "       Agg_Inc County        Tract\n",
       "0   78328200.0  36005  36005020000\n",
       "1  101308000.0  36005  36005020501"
      ]
     },
     "execution_count": 218,
     "metadata": {},
     "output_type": "execute_result"
    }
   ],
   "source": [
    "a_inc_col = list(a_inc_variables.values())+['County', 'Tract']\n",
    "\n",
    "a_inc_d = pd.DataFrame()\n",
    "a_inc_df = pd.concat([a_inc_d, (pd.DataFrame(data=a_inc[0], columns=a_inc_col)),\n",
    "                     (pd.DataFrame(data=a_inc[1], columns=a_inc_col)),\n",
    "                     (pd.DataFrame(data=a_inc[2], columns=a_inc_col)),\n",
    "                     (pd.DataFrame(data=a_inc[3], columns=a_inc_col))]).reset_index(drop=True)\n",
    "a_inc_df.head(2)"
   ]
  },
  {
   "cell_type": "markdown",
   "metadata": {},
   "source": [
    "## Dataframe for median age for workers 16-64"
   ]
  },
  {
   "cell_type": "code",
   "execution_count": 219,
   "metadata": {},
   "outputs": [
    {
     "data": {
      "text/html": [
       "<div>\n",
       "<style scoped>\n",
       "    .dataframe tbody tr th:only-of-type {\n",
       "        vertical-align: middle;\n",
       "    }\n",
       "\n",
       "    .dataframe tbody tr th {\n",
       "        vertical-align: top;\n",
       "    }\n",
       "\n",
       "    .dataframe thead th {\n",
       "        text-align: right;\n",
       "    }\n",
       "</style>\n",
       "<table border=\"1\" class=\"dataframe\">\n",
       "  <thead>\n",
       "    <tr style=\"text-align: right;\">\n",
       "      <th></th>\n",
       "      <th>M_Age_Wor</th>\n",
       "      <th>County</th>\n",
       "      <th>Tract</th>\n",
       "    </tr>\n",
       "  </thead>\n",
       "  <tbody>\n",
       "    <tr>\n",
       "      <th>0</th>\n",
       "      <td>42.0</td>\n",
       "      <td>36005</td>\n",
       "      <td>36005020000</td>\n",
       "    </tr>\n",
       "    <tr>\n",
       "      <th>1</th>\n",
       "      <td>37.1</td>\n",
       "      <td>36005</td>\n",
       "      <td>36005020501</td>\n",
       "    </tr>\n",
       "  </tbody>\n",
       "</table>\n",
       "</div>"
      ],
      "text/plain": [
       "   M_Age_Wor County        Tract\n",
       "0       42.0  36005  36005020000\n",
       "1       37.1  36005  36005020501"
      ]
     },
     "execution_count": 219,
     "metadata": {},
     "output_type": "execute_result"
    }
   ],
   "source": [
    "m_age_wor_col = list(m_age_wor_variables.values())+['County', 'Tract']\n",
    "\n",
    "m_age_wor_d = pd.DataFrame()\n",
    "m_age_wor_df = pd.concat([m_age_wor_d, (pd.DataFrame(data=m_age_wor[0], columns=m_age_wor_col)),\n",
    "                     (pd.DataFrame(data=m_age_wor[1], columns=m_age_wor_col)),\n",
    "                     (pd.DataFrame(data=m_age_wor[2], columns=m_age_wor_col)),\n",
    "                     (pd.DataFrame(data=m_age_wor[3], columns=m_age_wor_col))]).reset_index(drop=True)\n",
    "m_age_wor_df.head(2)"
   ]
  },
  {
   "cell_type": "markdown",
   "metadata": {},
   "source": [
    "## Dataframe for median age for all population"
   ]
  },
  {
   "cell_type": "code",
   "execution_count": 220,
   "metadata": {},
   "outputs": [
    {
     "data": {
      "text/html": [
       "<div>\n",
       "<style scoped>\n",
       "    .dataframe tbody tr th:only-of-type {\n",
       "        vertical-align: middle;\n",
       "    }\n",
       "\n",
       "    .dataframe tbody tr th {\n",
       "        vertical-align: top;\n",
       "    }\n",
       "\n",
       "    .dataframe thead th {\n",
       "        text-align: right;\n",
       "    }\n",
       "</style>\n",
       "<table border=\"1\" class=\"dataframe\">\n",
       "  <thead>\n",
       "    <tr style=\"text-align: right;\">\n",
       "      <th></th>\n",
       "      <th>M_Age_All</th>\n",
       "      <th>County</th>\n",
       "      <th>Tract</th>\n",
       "    </tr>\n",
       "  </thead>\n",
       "  <tbody>\n",
       "    <tr>\n",
       "      <th>0</th>\n",
       "      <td>32.7</td>\n",
       "      <td>36005</td>\n",
       "      <td>36005020000</td>\n",
       "    </tr>\n",
       "    <tr>\n",
       "      <th>1</th>\n",
       "      <td>34.3</td>\n",
       "      <td>36005</td>\n",
       "      <td>36005020501</td>\n",
       "    </tr>\n",
       "  </tbody>\n",
       "</table>\n",
       "</div>"
      ],
      "text/plain": [
       "   M_Age_All County        Tract\n",
       "0       32.7  36005  36005020000\n",
       "1       34.3  36005  36005020501"
      ]
     },
     "execution_count": 220,
     "metadata": {},
     "output_type": "execute_result"
    }
   ],
   "source": [
    "m_age_all_col = list(m_age_all_variables.values())+['County', 'Tract']\n",
    "\n",
    "m_age_all_d = pd.DataFrame()\n",
    "m_age_all_df = pd.concat([m_age_all_d, (pd.DataFrame(data=m_age_all[0], columns=m_age_all_col)),\n",
    "                     (pd.DataFrame(data=m_age_all[1], columns=m_age_all_col)),\n",
    "                     (pd.DataFrame(data=m_age_all[2], columns=m_age_all_col)),\n",
    "                     (pd.DataFrame(data=m_age_all[3], columns=m_age_all_col))]).reset_index(drop=True)\n",
    "m_age_all_df.head(2)"
   ]
  },
  {
   "cell_type": "markdown",
   "metadata": {
    "id": "nmEzTwMBsyRy"
   },
   "source": [
    "## Dataframe for race"
   ]
  },
  {
   "cell_type": "markdown",
   "metadata": {
    "id": "u9pSdDz9wPLB"
   },
   "source": [
    "The race categories here included are: \n",
    "\n",
    "*   White\n",
    "*   Black\n",
    "*   Hispanic or Latino\n",
    "*   Asian\n",
    "*   Other races\n",
    "*   Mixed\n",
    "\n"
   ]
  },
  {
   "cell_type": "code",
   "execution_count": 221,
   "metadata": {
    "colab": {
     "base_uri": "https://localhost:8080/",
     "height": 112
    },
    "id": "IYrcKrxHjJn7",
    "outputId": "1a26b98d-e061-48d4-90bc-9716eba81526"
   },
   "outputs": [
    {
     "data": {
      "text/html": [
       "<div>\n",
       "<style scoped>\n",
       "    .dataframe tbody tr th:only-of-type {\n",
       "        vertical-align: middle;\n",
       "    }\n",
       "\n",
       "    .dataframe tbody tr th {\n",
       "        vertical-align: top;\n",
       "    }\n",
       "\n",
       "    .dataframe thead th {\n",
       "        text-align: right;\n",
       "    }\n",
       "</style>\n",
       "<table border=\"1\" class=\"dataframe\">\n",
       "  <thead>\n",
       "    <tr style=\"text-align: right;\">\n",
       "      <th></th>\n",
       "      <th>Race_Total</th>\n",
       "      <th>County</th>\n",
       "      <th>Tract</th>\n",
       "      <th>%White</th>\n",
       "      <th>%Black</th>\n",
       "      <th>%Hispanic_Latino</th>\n",
       "      <th>%Asian</th>\n",
       "      <th>%Other</th>\n",
       "      <th>%Mixed</th>\n",
       "    </tr>\n",
       "  </thead>\n",
       "  <tbody>\n",
       "    <tr>\n",
       "      <th>0</th>\n",
       "      <td>4711</td>\n",
       "      <td>36005</td>\n",
       "      <td>36005020000</td>\n",
       "      <td>2.759499</td>\n",
       "      <td>9.382297</td>\n",
       "      <td>61.197198</td>\n",
       "      <td>23.392061</td>\n",
       "      <td>2.080238</td>\n",
       "      <td>1.188707</td>\n",
       "    </tr>\n",
       "    <tr>\n",
       "      <th>1</th>\n",
       "      <td>6976</td>\n",
       "      <td>36005</td>\n",
       "      <td>36005020501</td>\n",
       "      <td>1.046445</td>\n",
       "      <td>26.333142</td>\n",
       "      <td>71.530963</td>\n",
       "      <td>0.788417</td>\n",
       "      <td>0.000000</td>\n",
       "      <td>0.301032</td>\n",
       "    </tr>\n",
       "  </tbody>\n",
       "</table>\n",
       "</div>"
      ],
      "text/plain": [
       "   Race_Total County        Tract    %White     %Black  %Hispanic_Latino  \\\n",
       "0        4711  36005  36005020000  2.759499   9.382297         61.197198   \n",
       "1        6976  36005  36005020501  1.046445  26.333142         71.530963   \n",
       "\n",
       "      %Asian    %Other    %Mixed  \n",
       "0  23.392061  2.080238  1.188707  \n",
       "1   0.788417  0.000000  0.301032  "
      ]
     },
     "execution_count": 221,
     "metadata": {},
     "output_type": "execute_result"
    }
   ],
   "source": [
    "race_col = ['Race_Total','White','Black',\n",
    "            'Hispanic_Latino',\"Asian\",'Mixed','County', 'Tract']\n",
    "\n",
    "race_d = pd.DataFrame()\n",
    "race_df = pd.concat([race_d, (pd.DataFrame(data=race[0], columns=race_col)),\n",
    "                     (pd.DataFrame(data=race[1], columns=race_col)),\n",
    "                     (pd.DataFrame(data=race[2], columns=race_col)),\n",
    "                     (pd.DataFrame(data=race[3], columns=race_col))]).reset_index(drop=True)\n",
    "\n",
    "#total-white-black-hispanic-asian-mixed=minor races\n",
    "race_df['Other'] = race_df['Race_Total']-race_df.iloc[:,1:-2].sum(axis=1)\n",
    "\n",
    "#% of each race\n",
    "races = ['White', 'Black',\n",
    "        'Hispanic_Latino',\"Asian\",\n",
    "        'Other', 'Mixed']\n",
    "for i in range(len(races)):\n",
    "      race_df['%{}'.format(races[i])]=(race_df['{}'.format(races[i])]/race_df['Race_Total'])*100\n",
    "\n",
    "race_df = race_df.iloc[:, [0,6,7,9,10,11,12,13,14]]\n",
    "\n",
    "race_df.head(2)"
   ]
  },
  {
   "cell_type": "markdown",
   "metadata": {
    "id": "INXPXXGSs4dA"
   },
   "source": [
    "## Dataframe for education attainment"
   ]
  },
  {
   "cell_type": "markdown",
   "metadata": {
    "id": "yajyeBdgs6eg"
   },
   "source": [
    "The data here is for people above 18 and hold a high school diploma or above. We will look at two types of education attainment: $\\frac{Bachelor's\\: or\\: higher}{Population\\: 18 \\:and \\:above}$, and $\\frac{High\\: School \\: or\\: higher}{Population\\: 18 \\:and \\:above}$"
   ]
  },
  {
   "cell_type": "code",
   "execution_count": 222,
   "metadata": {
    "colab": {
     "base_uri": "https://localhost:8080/",
     "height": 112
    },
    "id": "LN-FMBbmr9ND",
    "outputId": "7fcf2051-36ee-454d-9d66-87ed8a9516e0"
   },
   "outputs": [
    {
     "data": {
      "text/html": [
       "<div>\n",
       "<style scoped>\n",
       "    .dataframe tbody tr th:only-of-type {\n",
       "        vertical-align: middle;\n",
       "    }\n",
       "\n",
       "    .dataframe tbody tr th {\n",
       "        vertical-align: top;\n",
       "    }\n",
       "\n",
       "    .dataframe thead th {\n",
       "        text-align: right;\n",
       "    }\n",
       "</style>\n",
       "<table border=\"1\" class=\"dataframe\">\n",
       "  <thead>\n",
       "    <tr style=\"text-align: right;\">\n",
       "      <th></th>\n",
       "      <th>Edu_Tot</th>\n",
       "      <th>County</th>\n",
       "      <th>Tract</th>\n",
       "      <th>%Edu_hs</th>\n",
       "      <th>%Edu_bac</th>\n",
       "    </tr>\n",
       "  </thead>\n",
       "  <tbody>\n",
       "    <tr>\n",
       "      <th>0</th>\n",
       "      <td>3310</td>\n",
       "      <td>36005</td>\n",
       "      <td>36005020000</td>\n",
       "      <td>71.873112</td>\n",
       "      <td>23.685801</td>\n",
       "    </tr>\n",
       "    <tr>\n",
       "      <th>1</th>\n",
       "      <td>5313</td>\n",
       "      <td>36005</td>\n",
       "      <td>36005020501</td>\n",
       "      <td>71.052136</td>\n",
       "      <td>9.655562</td>\n",
       "    </tr>\n",
       "  </tbody>\n",
       "</table>\n",
       "</div>"
      ],
      "text/plain": [
       "   Edu_Tot County        Tract    %Edu_hs   %Edu_bac\n",
       "0     3310  36005  36005020000  71.873112  23.685801\n",
       "1     5313  36005  36005020501  71.052136   9.655562"
      ]
     },
     "execution_count": 222,
     "metadata": {},
     "output_type": "execute_result"
    }
   ],
   "source": [
    "edu_col = ['Edu_Tot', \n",
    "'18m_hs', '18m_some_c', '18m_ass', '18m_bac', '18m_grad',\n",
    "'25m_hs', '25m_some_c', '25m_ass', '25m_bac', '25m_grad',\n",
    "'35m_hs', '35m_some_c', '35m_ass', '35m_bac', '35m_grad',\n",
    "'45m_hs', '45m_some_c', '45m_ass', '45m_bac', '45m_grad',\n",
    "'65m_hs', '65m_some_c', '65m_ass', '65m_bac', '65m_grad',\n",
    "'18f_hs', '18f_some_c', '18f_ass', '18f_bac', '18f_grad',\n",
    "'25f_hs', '25f_some_c', '25f_ass', '25f_bac', '25f_grad',\n",
    "'35f_hs', '35f_some_c', '35f_ass', '35f_bac', '35f_grad',\n",
    "'45f_hs', '45f_some_c', '45f_ass', '45f_bac', '45f_grad',\n",
    "'65f_hs', '65f_some_c', '65f_ass', '65f_bac', '65f_grad',\n",
    "'County', 'Tract']\n",
    "\n",
    "edu_d = pd.DataFrame()\n",
    "edu_df = pd.concat([edu_d, (pd.DataFrame(data=edu[0], columns=edu_col)),\n",
    "                     (pd.DataFrame(data=edu[1], columns=edu_col)),\n",
    "                     (pd.DataFrame(data=edu[2], columns=edu_col)),\n",
    "                     (pd.DataFrame(data=edu[3], columns=edu_col))]).reset_index(drop=True)\n",
    "\n",
    "#% of adults with high school degree or above\n",
    "edu_df['%Edu_hs'] = (((edu_df.iloc[:, 1:-2]).sum(axis=1))/edu_df['Edu_Tot'])*100\n",
    "#of adults with bachelors or above\n",
    "edu_df['%Edu_bac'] = (edu_df.iloc[:, [4,5,9,10,14,15,19,20,24,25,\n",
    "                                      29,30,34,35,39,40,44,45,49,50]].sum(axis=1)/edu_df['Edu_Tot'])*100\n",
    "edu_df = edu_df.iloc[:,[0, 51,52,53,54]]\n",
    "\n",
    "edu_df.head(2)"
   ]
  },
  {
   "cell_type": "markdown",
   "metadata": {
    "id": "1tItdGs8ukUZ"
   },
   "source": [
    "## Combine the four dataframes"
   ]
  },
  {
   "cell_type": "code",
   "execution_count": 223,
   "metadata": {},
   "outputs": [],
   "source": [
    "#job_df\n",
    "#m_inc_df\n",
    "#a_inc_df\n",
    "#m_age_wor_df\n",
    "#m_age_all_df\n",
    "#race_df\n",
    "#edu_df"
   ]
  },
  {
   "cell_type": "code",
   "execution_count": 224,
   "metadata": {},
   "outputs": [
    {
     "data": {
      "text/html": [
       "<div>\n",
       "<style scoped>\n",
       "    .dataframe tbody tr th:only-of-type {\n",
       "        vertical-align: middle;\n",
       "    }\n",
       "\n",
       "    .dataframe tbody tr th {\n",
       "        vertical-align: top;\n",
       "    }\n",
       "\n",
       "    .dataframe thead th {\n",
       "        text-align: right;\n",
       "    }\n",
       "</style>\n",
       "<table border=\"1\" class=\"dataframe\">\n",
       "  <thead>\n",
       "    <tr style=\"text-align: right;\">\n",
       "      <th></th>\n",
       "      <th>J_Tot</th>\n",
       "      <th>J_W_1</th>\n",
       "      <th>J_B_1</th>\n",
       "      <th>J_W_2</th>\n",
       "      <th>J_B_2</th>\n",
       "      <th>J_B_3</th>\n",
       "      <th>County_x</th>\n",
       "      <th>Tract</th>\n",
       "      <th>Median_Inc</th>\n",
       "    </tr>\n",
       "  </thead>\n",
       "  <tbody>\n",
       "    <tr>\n",
       "      <th>0</th>\n",
       "      <td>1934</td>\n",
       "      <td>420</td>\n",
       "      <td>622</td>\n",
       "      <td>383</td>\n",
       "      <td>175</td>\n",
       "      <td>334</td>\n",
       "      <td>36005</td>\n",
       "      <td>36005020000</td>\n",
       "      <td>40184</td>\n",
       "    </tr>\n",
       "    <tr>\n",
       "      <th>1</th>\n",
       "      <td>2333</td>\n",
       "      <td>562</td>\n",
       "      <td>737</td>\n",
       "      <td>663</td>\n",
       "      <td>225</td>\n",
       "      <td>146</td>\n",
       "      <td>36005</td>\n",
       "      <td>36005020501</td>\n",
       "      <td>17601</td>\n",
       "    </tr>\n",
       "  </tbody>\n",
       "</table>\n",
       "</div>"
      ],
      "text/plain": [
       "   J_Tot  J_W_1  J_B_1  J_W_2  J_B_2  J_B_3 County_x        Tract  Median_Inc\n",
       "0   1934    420    622    383    175    334    36005  36005020000       40184\n",
       "1   2333    562    737    663    225    146    36005  36005020501       17601"
      ]
     },
     "execution_count": 224,
     "metadata": {},
     "output_type": "execute_result"
    }
   ],
   "source": [
    "merge1 = job_df.merge(m_inc_df, how='inner', on='Tract')\n",
    "merge1 = merge1.iloc[:, :-1]\n",
    "merge1.head(2)"
   ]
  },
  {
   "cell_type": "code",
   "execution_count": 225,
   "metadata": {
    "colab": {
     "base_uri": "https://localhost:8080/",
     "height": 112
    },
    "id": "gU5nsR2-0lXw",
    "outputId": "14aa5905-04b9-4513-9e9b-cb3be5932d64"
   },
   "outputs": [
    {
     "data": {
      "text/html": [
       "<div>\n",
       "<style scoped>\n",
       "    .dataframe tbody tr th:only-of-type {\n",
       "        vertical-align: middle;\n",
       "    }\n",
       "\n",
       "    .dataframe tbody tr th {\n",
       "        vertical-align: top;\n",
       "    }\n",
       "\n",
       "    .dataframe thead th {\n",
       "        text-align: right;\n",
       "    }\n",
       "</style>\n",
       "<table border=\"1\" class=\"dataframe\">\n",
       "  <thead>\n",
       "    <tr style=\"text-align: right;\">\n",
       "      <th></th>\n",
       "      <th>J_Tot</th>\n",
       "      <th>J_W_1</th>\n",
       "      <th>J_B_1</th>\n",
       "      <th>J_W_2</th>\n",
       "      <th>J_B_2</th>\n",
       "      <th>J_B_3</th>\n",
       "      <th>Tract</th>\n",
       "      <th>Median_Inc</th>\n",
       "      <th>Agg_Inc</th>\n",
       "      <th>County</th>\n",
       "    </tr>\n",
       "  </thead>\n",
       "  <tbody>\n",
       "    <tr>\n",
       "      <th>0</th>\n",
       "      <td>1934</td>\n",
       "      <td>420</td>\n",
       "      <td>622</td>\n",
       "      <td>383</td>\n",
       "      <td>175</td>\n",
       "      <td>334</td>\n",
       "      <td>36005020000</td>\n",
       "      <td>40184</td>\n",
       "      <td>78328200.0</td>\n",
       "      <td>36005</td>\n",
       "    </tr>\n",
       "    <tr>\n",
       "      <th>1</th>\n",
       "      <td>2333</td>\n",
       "      <td>562</td>\n",
       "      <td>737</td>\n",
       "      <td>663</td>\n",
       "      <td>225</td>\n",
       "      <td>146</td>\n",
       "      <td>36005020501</td>\n",
       "      <td>17601</td>\n",
       "      <td>101308000.0</td>\n",
       "      <td>36005</td>\n",
       "    </tr>\n",
       "  </tbody>\n",
       "</table>\n",
       "</div>"
      ],
      "text/plain": [
       "   J_Tot  J_W_1  J_B_1  J_W_2  J_B_2  J_B_3        Tract  Median_Inc  \\\n",
       "0   1934    420    622    383    175    334  36005020000       40184   \n",
       "1   2333    562    737    663    225    146  36005020501       17601   \n",
       "\n",
       "       Agg_Inc County  \n",
       "0   78328200.0  36005  \n",
       "1  101308000.0  36005  "
      ]
     },
     "execution_count": 225,
     "metadata": {},
     "output_type": "execute_result"
    }
   ],
   "source": [
    "merge2 = merge1.merge(a_inc_df,how='inner',on='Tract')\n",
    "merge2 = merge2.drop('County_x', axis=1)\n",
    "merge2.head(2)"
   ]
  },
  {
   "cell_type": "code",
   "execution_count": 226,
   "metadata": {},
   "outputs": [
    {
     "data": {
      "text/html": [
       "<div>\n",
       "<style scoped>\n",
       "    .dataframe tbody tr th:only-of-type {\n",
       "        vertical-align: middle;\n",
       "    }\n",
       "\n",
       "    .dataframe tbody tr th {\n",
       "        vertical-align: top;\n",
       "    }\n",
       "\n",
       "    .dataframe thead th {\n",
       "        text-align: right;\n",
       "    }\n",
       "</style>\n",
       "<table border=\"1\" class=\"dataframe\">\n",
       "  <thead>\n",
       "    <tr style=\"text-align: right;\">\n",
       "      <th></th>\n",
       "      <th>J_Tot</th>\n",
       "      <th>J_W_1</th>\n",
       "      <th>J_B_1</th>\n",
       "      <th>J_W_2</th>\n",
       "      <th>J_B_2</th>\n",
       "      <th>J_B_3</th>\n",
       "      <th>Tract</th>\n",
       "      <th>Median_Inc</th>\n",
       "      <th>Agg_Inc</th>\n",
       "      <th>County_x</th>\n",
       "      <th>M_Age_Wor</th>\n",
       "    </tr>\n",
       "  </thead>\n",
       "  <tbody>\n",
       "    <tr>\n",
       "      <th>0</th>\n",
       "      <td>1934</td>\n",
       "      <td>420</td>\n",
       "      <td>622</td>\n",
       "      <td>383</td>\n",
       "      <td>175</td>\n",
       "      <td>334</td>\n",
       "      <td>36005020000</td>\n",
       "      <td>40184</td>\n",
       "      <td>78328200.0</td>\n",
       "      <td>36005</td>\n",
       "      <td>42.0</td>\n",
       "    </tr>\n",
       "    <tr>\n",
       "      <th>1</th>\n",
       "      <td>2333</td>\n",
       "      <td>562</td>\n",
       "      <td>737</td>\n",
       "      <td>663</td>\n",
       "      <td>225</td>\n",
       "      <td>146</td>\n",
       "      <td>36005020501</td>\n",
       "      <td>17601</td>\n",
       "      <td>101308000.0</td>\n",
       "      <td>36005</td>\n",
       "      <td>37.1</td>\n",
       "    </tr>\n",
       "  </tbody>\n",
       "</table>\n",
       "</div>"
      ],
      "text/plain": [
       "   J_Tot  J_W_1  J_B_1  J_W_2  J_B_2  J_B_3        Tract  Median_Inc  \\\n",
       "0   1934    420    622    383    175    334  36005020000       40184   \n",
       "1   2333    562    737    663    225    146  36005020501       17601   \n",
       "\n",
       "       Agg_Inc County_x  M_Age_Wor  \n",
       "0   78328200.0    36005       42.0  \n",
       "1  101308000.0    36005       37.1  "
      ]
     },
     "execution_count": 226,
     "metadata": {},
     "output_type": "execute_result"
    }
   ],
   "source": [
    "merge3 = merge2.merge(m_age_wor_df,how='inner',on='Tract')\n",
    "merge3 = merge3.drop('County_y', axis=1)\n",
    "merge3.head(2)"
   ]
  },
  {
   "cell_type": "code",
   "execution_count": 227,
   "metadata": {},
   "outputs": [
    {
     "data": {
      "text/html": [
       "<div>\n",
       "<style scoped>\n",
       "    .dataframe tbody tr th:only-of-type {\n",
       "        vertical-align: middle;\n",
       "    }\n",
       "\n",
       "    .dataframe tbody tr th {\n",
       "        vertical-align: top;\n",
       "    }\n",
       "\n",
       "    .dataframe thead th {\n",
       "        text-align: right;\n",
       "    }\n",
       "</style>\n",
       "<table border=\"1\" class=\"dataframe\">\n",
       "  <thead>\n",
       "    <tr style=\"text-align: right;\">\n",
       "      <th></th>\n",
       "      <th>J_Tot</th>\n",
       "      <th>J_W_1</th>\n",
       "      <th>J_B_1</th>\n",
       "      <th>J_W_2</th>\n",
       "      <th>J_B_2</th>\n",
       "      <th>J_B_3</th>\n",
       "      <th>Tract</th>\n",
       "      <th>Median_Inc</th>\n",
       "      <th>Agg_Inc</th>\n",
       "      <th>M_Age_Wor</th>\n",
       "      <th>M_Age_All</th>\n",
       "      <th>County</th>\n",
       "    </tr>\n",
       "  </thead>\n",
       "  <tbody>\n",
       "    <tr>\n",
       "      <th>0</th>\n",
       "      <td>1934</td>\n",
       "      <td>420</td>\n",
       "      <td>622</td>\n",
       "      <td>383</td>\n",
       "      <td>175</td>\n",
       "      <td>334</td>\n",
       "      <td>36005020000</td>\n",
       "      <td>40184</td>\n",
       "      <td>78328200.0</td>\n",
       "      <td>42.0</td>\n",
       "      <td>32.7</td>\n",
       "      <td>36005</td>\n",
       "    </tr>\n",
       "    <tr>\n",
       "      <th>1</th>\n",
       "      <td>2333</td>\n",
       "      <td>562</td>\n",
       "      <td>737</td>\n",
       "      <td>663</td>\n",
       "      <td>225</td>\n",
       "      <td>146</td>\n",
       "      <td>36005020501</td>\n",
       "      <td>17601</td>\n",
       "      <td>101308000.0</td>\n",
       "      <td>37.1</td>\n",
       "      <td>34.3</td>\n",
       "      <td>36005</td>\n",
       "    </tr>\n",
       "  </tbody>\n",
       "</table>\n",
       "</div>"
      ],
      "text/plain": [
       "   J_Tot  J_W_1  J_B_1  J_W_2  J_B_2  J_B_3        Tract  Median_Inc  \\\n",
       "0   1934    420    622    383    175    334  36005020000       40184   \n",
       "1   2333    562    737    663    225    146  36005020501       17601   \n",
       "\n",
       "       Agg_Inc  M_Age_Wor  M_Age_All County  \n",
       "0   78328200.0       42.0       32.7  36005  \n",
       "1  101308000.0       37.1       34.3  36005  "
      ]
     },
     "execution_count": 227,
     "metadata": {},
     "output_type": "execute_result"
    }
   ],
   "source": [
    "merge4 = merge3.merge(m_age_all_df,how='inner',on='Tract')\n",
    "merge4 = merge4.drop('County_x', axis=1)\n",
    "merge4.head(2)"
   ]
  },
  {
   "cell_type": "code",
   "execution_count": 228,
   "metadata": {},
   "outputs": [
    {
     "data": {
      "text/html": [
       "<div>\n",
       "<style scoped>\n",
       "    .dataframe tbody tr th:only-of-type {\n",
       "        vertical-align: middle;\n",
       "    }\n",
       "\n",
       "    .dataframe tbody tr th {\n",
       "        vertical-align: top;\n",
       "    }\n",
       "\n",
       "    .dataframe thead th {\n",
       "        text-align: right;\n",
       "    }\n",
       "</style>\n",
       "<table border=\"1\" class=\"dataframe\">\n",
       "  <thead>\n",
       "    <tr style=\"text-align: right;\">\n",
       "      <th></th>\n",
       "      <th>J_Tot</th>\n",
       "      <th>J_W_1</th>\n",
       "      <th>J_B_1</th>\n",
       "      <th>J_W_2</th>\n",
       "      <th>J_B_2</th>\n",
       "      <th>J_B_3</th>\n",
       "      <th>Tract</th>\n",
       "      <th>Median_Inc</th>\n",
       "      <th>Agg_Inc</th>\n",
       "      <th>M_Age_Wor</th>\n",
       "      <th>M_Age_All</th>\n",
       "      <th>County_x</th>\n",
       "      <th>Race_Total</th>\n",
       "      <th>%White</th>\n",
       "      <th>%Black</th>\n",
       "      <th>%Hispanic_Latino</th>\n",
       "      <th>%Asian</th>\n",
       "      <th>%Other</th>\n",
       "      <th>%Mixed</th>\n",
       "    </tr>\n",
       "  </thead>\n",
       "  <tbody>\n",
       "    <tr>\n",
       "      <th>0</th>\n",
       "      <td>1934</td>\n",
       "      <td>420</td>\n",
       "      <td>622</td>\n",
       "      <td>383</td>\n",
       "      <td>175</td>\n",
       "      <td>334</td>\n",
       "      <td>36005020000</td>\n",
       "      <td>40184</td>\n",
       "      <td>78328200.0</td>\n",
       "      <td>42.0</td>\n",
       "      <td>32.7</td>\n",
       "      <td>36005</td>\n",
       "      <td>4711</td>\n",
       "      <td>2.759499</td>\n",
       "      <td>9.382297</td>\n",
       "      <td>61.197198</td>\n",
       "      <td>23.392061</td>\n",
       "      <td>2.080238</td>\n",
       "      <td>1.188707</td>\n",
       "    </tr>\n",
       "    <tr>\n",
       "      <th>1</th>\n",
       "      <td>2333</td>\n",
       "      <td>562</td>\n",
       "      <td>737</td>\n",
       "      <td>663</td>\n",
       "      <td>225</td>\n",
       "      <td>146</td>\n",
       "      <td>36005020501</td>\n",
       "      <td>17601</td>\n",
       "      <td>101308000.0</td>\n",
       "      <td>37.1</td>\n",
       "      <td>34.3</td>\n",
       "      <td>36005</td>\n",
       "      <td>6976</td>\n",
       "      <td>1.046445</td>\n",
       "      <td>26.333142</td>\n",
       "      <td>71.530963</td>\n",
       "      <td>0.788417</td>\n",
       "      <td>0.000000</td>\n",
       "      <td>0.301032</td>\n",
       "    </tr>\n",
       "  </tbody>\n",
       "</table>\n",
       "</div>"
      ],
      "text/plain": [
       "   J_Tot  J_W_1  J_B_1  J_W_2  J_B_2  J_B_3        Tract  Median_Inc  \\\n",
       "0   1934    420    622    383    175    334  36005020000       40184   \n",
       "1   2333    562    737    663    225    146  36005020501       17601   \n",
       "\n",
       "       Agg_Inc  M_Age_Wor  M_Age_All County_x  Race_Total    %White  \\\n",
       "0   78328200.0       42.0       32.7    36005        4711  2.759499   \n",
       "1  101308000.0       37.1       34.3    36005        6976  1.046445   \n",
       "\n",
       "      %Black  %Hispanic_Latino     %Asian    %Other    %Mixed  \n",
       "0   9.382297         61.197198  23.392061  2.080238  1.188707  \n",
       "1  26.333142         71.530963   0.788417  0.000000  0.301032  "
      ]
     },
     "execution_count": 228,
     "metadata": {},
     "output_type": "execute_result"
    }
   ],
   "source": [
    "merge5 = merge4.merge(race_df,how='inner',on='Tract')\n",
    "merge5 = merge5.drop('County_y', axis=1)\n",
    "merge5.head(2)"
   ]
  },
  {
   "cell_type": "code",
   "execution_count": 229,
   "metadata": {},
   "outputs": [
    {
     "data": {
      "text/html": [
       "<div>\n",
       "<style scoped>\n",
       "    .dataframe tbody tr th:only-of-type {\n",
       "        vertical-align: middle;\n",
       "    }\n",
       "\n",
       "    .dataframe tbody tr th {\n",
       "        vertical-align: top;\n",
       "    }\n",
       "\n",
       "    .dataframe thead th {\n",
       "        text-align: right;\n",
       "    }\n",
       "</style>\n",
       "<table border=\"1\" class=\"dataframe\">\n",
       "  <thead>\n",
       "    <tr style=\"text-align: right;\">\n",
       "      <th></th>\n",
       "      <th>J_Tot</th>\n",
       "      <th>J_W_1</th>\n",
       "      <th>J_B_1</th>\n",
       "      <th>J_W_2</th>\n",
       "      <th>J_B_2</th>\n",
       "      <th>J_B_3</th>\n",
       "      <th>Tract</th>\n",
       "      <th>Median_Inc</th>\n",
       "      <th>Agg_Inc</th>\n",
       "      <th>M_Age_Wor</th>\n",
       "      <th>...</th>\n",
       "      <th>%White</th>\n",
       "      <th>%Black</th>\n",
       "      <th>%Hispanic_Latino</th>\n",
       "      <th>%Asian</th>\n",
       "      <th>%Other</th>\n",
       "      <th>%Mixed</th>\n",
       "      <th>Edu_Tot</th>\n",
       "      <th>County</th>\n",
       "      <th>%Edu_hs</th>\n",
       "      <th>%Edu_bac</th>\n",
       "    </tr>\n",
       "  </thead>\n",
       "  <tbody>\n",
       "    <tr>\n",
       "      <th>0</th>\n",
       "      <td>1934</td>\n",
       "      <td>420</td>\n",
       "      <td>622</td>\n",
       "      <td>383</td>\n",
       "      <td>175</td>\n",
       "      <td>334</td>\n",
       "      <td>36005020000</td>\n",
       "      <td>40184</td>\n",
       "      <td>78328200.0</td>\n",
       "      <td>42.0</td>\n",
       "      <td>...</td>\n",
       "      <td>2.759499</td>\n",
       "      <td>9.382297</td>\n",
       "      <td>61.197198</td>\n",
       "      <td>23.392061</td>\n",
       "      <td>2.080238</td>\n",
       "      <td>1.188707</td>\n",
       "      <td>3310</td>\n",
       "      <td>36005</td>\n",
       "      <td>71.873112</td>\n",
       "      <td>23.685801</td>\n",
       "    </tr>\n",
       "    <tr>\n",
       "      <th>1</th>\n",
       "      <td>2333</td>\n",
       "      <td>562</td>\n",
       "      <td>737</td>\n",
       "      <td>663</td>\n",
       "      <td>225</td>\n",
       "      <td>146</td>\n",
       "      <td>36005020501</td>\n",
       "      <td>17601</td>\n",
       "      <td>101308000.0</td>\n",
       "      <td>37.1</td>\n",
       "      <td>...</td>\n",
       "      <td>1.046445</td>\n",
       "      <td>26.333142</td>\n",
       "      <td>71.530963</td>\n",
       "      <td>0.788417</td>\n",
       "      <td>0.000000</td>\n",
       "      <td>0.301032</td>\n",
       "      <td>5313</td>\n",
       "      <td>36005</td>\n",
       "      <td>71.052136</td>\n",
       "      <td>9.655562</td>\n",
       "    </tr>\n",
       "  </tbody>\n",
       "</table>\n",
       "<p>2 rows × 22 columns</p>\n",
       "</div>"
      ],
      "text/plain": [
       "   J_Tot  J_W_1  J_B_1  J_W_2  J_B_2  J_B_3        Tract  Median_Inc  \\\n",
       "0   1934    420    622    383    175    334  36005020000       40184   \n",
       "1   2333    562    737    663    225    146  36005020501       17601   \n",
       "\n",
       "       Agg_Inc  M_Age_Wor  ...    %White     %Black  %Hispanic_Latino  \\\n",
       "0   78328200.0       42.0  ...  2.759499   9.382297         61.197198   \n",
       "1  101308000.0       37.1  ...  1.046445  26.333142         71.530963   \n",
       "\n",
       "      %Asian    %Other    %Mixed  Edu_Tot  County    %Edu_hs   %Edu_bac  \n",
       "0  23.392061  2.080238  1.188707     3310   36005  71.873112  23.685801  \n",
       "1   0.788417  0.000000  0.301032     5313   36005  71.052136   9.655562  \n",
       "\n",
       "[2 rows x 22 columns]"
      ]
     },
     "execution_count": 229,
     "metadata": {},
     "output_type": "execute_result"
    }
   ],
   "source": [
    "merge6 = merge5.merge(edu_df,how='inner',on='Tract')\n",
    "merge6 = merge6.drop('County_x', axis=1)\n",
    "merge6.head(2)"
   ]
  },
  {
   "cell_type": "code",
   "execution_count": 230,
   "metadata": {},
   "outputs": [
    {
     "data": {
      "text/plain": [
       "Index(['J_Tot', 'J_W_1', 'J_B_1', 'J_W_2', 'J_B_2', 'J_B_3', 'Tract',\n",
       "       'Median_Inc', 'Agg_Inc', 'M_Age_Wor', 'M_Age_All', 'Race_Total',\n",
       "       '%White', '%Black', '%Hispanic_Latino', '%Asian', '%Other', '%Mixed',\n",
       "       'Edu_Tot', 'County', '%Edu_hs', '%Edu_bac'],\n",
       "      dtype='object')"
      ]
     },
     "execution_count": 230,
     "metadata": {},
     "output_type": "execute_result"
    }
   ],
   "source": [
    "merge6.columns"
   ]
  },
  {
   "cell_type": "code",
   "execution_count": 231,
   "metadata": {},
   "outputs": [
    {
     "data": {
      "text/html": [
       "<div>\n",
       "<style scoped>\n",
       "    .dataframe tbody tr th:only-of-type {\n",
       "        vertical-align: middle;\n",
       "    }\n",
       "\n",
       "    .dataframe tbody tr th {\n",
       "        vertical-align: top;\n",
       "    }\n",
       "\n",
       "    .dataframe thead th {\n",
       "        text-align: right;\n",
       "    }\n",
       "</style>\n",
       "<table border=\"1\" class=\"dataframe\">\n",
       "  <thead>\n",
       "    <tr style=\"text-align: right;\">\n",
       "      <th></th>\n",
       "      <th>J_Tot</th>\n",
       "      <th>J_W_1</th>\n",
       "      <th>J_B_1</th>\n",
       "      <th>J_W_2</th>\n",
       "      <th>J_B_2</th>\n",
       "      <th>J_B_3</th>\n",
       "      <th>Tract</th>\n",
       "      <th>Median_Inc</th>\n",
       "      <th>Agg_Inc</th>\n",
       "      <th>M_Age_Wor</th>\n",
       "      <th>...</th>\n",
       "      <th>Tot_commuters</th>\n",
       "      <th>Drive</th>\n",
       "      <th>Transit_all</th>\n",
       "      <th>Bus</th>\n",
       "      <th>Subway</th>\n",
       "      <th>County_y</th>\n",
       "      <th>Perc_Drive</th>\n",
       "      <th>Perc_Transit_all</th>\n",
       "      <th>Perc_Bus</th>\n",
       "      <th>Perc_Subway</th>\n",
       "    </tr>\n",
       "  </thead>\n",
       "  <tbody>\n",
       "    <tr>\n",
       "      <th>0</th>\n",
       "      <td>1934</td>\n",
       "      <td>420</td>\n",
       "      <td>622</td>\n",
       "      <td>383</td>\n",
       "      <td>175</td>\n",
       "      <td>334</td>\n",
       "      <td>36005020000</td>\n",
       "      <td>40184</td>\n",
       "      <td>78328200.0</td>\n",
       "      <td>42.0</td>\n",
       "      <td>...</td>\n",
       "      <td>1929</td>\n",
       "      <td>341</td>\n",
       "      <td>1338</td>\n",
       "      <td>215</td>\n",
       "      <td>1123</td>\n",
       "      <td>36005</td>\n",
       "      <td>17.677553</td>\n",
       "      <td>69.362364</td>\n",
       "      <td>11.145671</td>\n",
       "      <td>58.216693</td>\n",
       "    </tr>\n",
       "    <tr>\n",
       "      <th>1</th>\n",
       "      <td>2333</td>\n",
       "      <td>562</td>\n",
       "      <td>737</td>\n",
       "      <td>663</td>\n",
       "      <td>225</td>\n",
       "      <td>146</td>\n",
       "      <td>36005020501</td>\n",
       "      <td>17601</td>\n",
       "      <td>101308000.0</td>\n",
       "      <td>37.1</td>\n",
       "      <td>...</td>\n",
       "      <td>2333</td>\n",
       "      <td>391</td>\n",
       "      <td>1527</td>\n",
       "      <td>638</td>\n",
       "      <td>889</td>\n",
       "      <td>36005</td>\n",
       "      <td>16.759537</td>\n",
       "      <td>65.452207</td>\n",
       "      <td>27.346764</td>\n",
       "      <td>38.105444</td>\n",
       "    </tr>\n",
       "  </tbody>\n",
       "</table>\n",
       "<p>2 rows × 31 columns</p>\n",
       "</div>"
      ],
      "text/plain": [
       "   J_Tot  J_W_1  J_B_1  J_W_2  J_B_2  J_B_3        Tract  Median_Inc  \\\n",
       "0   1934    420    622    383    175    334  36005020000       40184   \n",
       "1   2333    562    737    663    225    146  36005020501       17601   \n",
       "\n",
       "       Agg_Inc  M_Age_Wor  ...  Tot_commuters  Drive  Transit_all  Bus  \\\n",
       "0   78328200.0       42.0  ...           1929    341         1338  215   \n",
       "1  101308000.0       37.1  ...           2333    391         1527  638   \n",
       "\n",
       "   Subway  County_y  Perc_Drive  Perc_Transit_all   Perc_Bus  Perc_Subway  \n",
       "0    1123     36005   17.677553         69.362364  11.145671    58.216693  \n",
       "1     889     36005   16.759537         65.452207  27.346764    38.105444  \n",
       "\n",
       "[2 rows x 31 columns]"
      ]
     },
     "execution_count": 231,
     "metadata": {},
     "output_type": "execute_result"
    }
   ],
   "source": [
    "merge7= merge6.merge(commute_df,how='inner',on='Tract')\n",
    "merge7 = merge7.drop('County_x', axis=1)\n",
    "merge7.head(2)"
   ]
  },
  {
   "cell_type": "code",
   "execution_count": 232,
   "metadata": {},
   "outputs": [
    {
     "data": {
      "text/plain": [
       "Index(['J_Tot', 'J_W_1', 'J_B_1', 'J_W_2', 'J_B_2', 'J_B_3', 'Tract',\n",
       "       'Median_Inc', 'Agg_Inc', 'M_Age_Wor', 'M_Age_All', 'Race_Total',\n",
       "       '%White', '%Black', '%Hispanic_Latino', '%Asian', '%Other', '%Mixed',\n",
       "       'Edu_Tot', '%Edu_hs', '%Edu_bac', 'Tot_commuters', 'Drive',\n",
       "       'Transit_all', 'Bus', 'Subway', 'County_y', 'Perc_Drive',\n",
       "       'Perc_Transit_all', 'Perc_Bus', 'Perc_Subway'],\n",
       "      dtype='object')"
      ]
     },
     "execution_count": 232,
     "metadata": {},
     "output_type": "execute_result"
    }
   ],
   "source": [
    "merge7.columns"
   ]
  },
  {
   "cell_type": "code",
   "execution_count": 233,
   "metadata": {
    "colab": {
     "base_uri": "https://localhost:8080/",
     "height": 467
    },
    "id": "wv4g8__31BrW",
    "outputId": "297639d3-0016-4a5a-c97f-f7a1674281d7"
   },
   "outputs": [
    {
     "data": {
      "text/html": [
       "<div>\n",
       "<style scoped>\n",
       "    .dataframe tbody tr th:only-of-type {\n",
       "        vertical-align: middle;\n",
       "    }\n",
       "\n",
       "    .dataframe tbody tr th {\n",
       "        vertical-align: top;\n",
       "    }\n",
       "\n",
       "    .dataframe thead th {\n",
       "        text-align: right;\n",
       "    }\n",
       "</style>\n",
       "<table border=\"1\" class=\"dataframe\">\n",
       "  <thead>\n",
       "    <tr style=\"text-align: right;\">\n",
       "      <th></th>\n",
       "      <th>Tract</th>\n",
       "      <th>Pop_Tot</th>\n",
       "      <th>Pop_18</th>\n",
       "      <th>%White</th>\n",
       "      <th>%Black</th>\n",
       "      <th>%Hispanic_Latino</th>\n",
       "      <th>%Asian</th>\n",
       "      <th>%Other</th>\n",
       "      <th>%Mixed</th>\n",
       "      <th>%Edu_hs</th>\n",
       "      <th>...</th>\n",
       "      <th>J_B_3</th>\n",
       "      <th>Median_Inc</th>\n",
       "      <th>Agg_Inc</th>\n",
       "      <th>M_Age_Wor</th>\n",
       "      <th>M_Age_All</th>\n",
       "      <th>Transit_all</th>\n",
       "      <th>Perc_Drive</th>\n",
       "      <th>Perc_Transit_all</th>\n",
       "      <th>Perc_Bus</th>\n",
       "      <th>Perc_Subway</th>\n",
       "    </tr>\n",
       "  </thead>\n",
       "  <tbody>\n",
       "    <tr>\n",
       "      <th>0</th>\n",
       "      <td>36005020000</td>\n",
       "      <td>4711</td>\n",
       "      <td>3310</td>\n",
       "      <td>2.759499</td>\n",
       "      <td>9.382297</td>\n",
       "      <td>61.197198</td>\n",
       "      <td>23.392061</td>\n",
       "      <td>2.080238</td>\n",
       "      <td>1.188707</td>\n",
       "      <td>71.873112</td>\n",
       "      <td>...</td>\n",
       "      <td>334</td>\n",
       "      <td>40184</td>\n",
       "      <td>78328200.0</td>\n",
       "      <td>42.0</td>\n",
       "      <td>32.7</td>\n",
       "      <td>1338</td>\n",
       "      <td>17.677553</td>\n",
       "      <td>69.362364</td>\n",
       "      <td>11.145671</td>\n",
       "      <td>58.216693</td>\n",
       "    </tr>\n",
       "    <tr>\n",
       "      <th>1</th>\n",
       "      <td>36005020501</td>\n",
       "      <td>6976</td>\n",
       "      <td>5313</td>\n",
       "      <td>1.046445</td>\n",
       "      <td>26.333142</td>\n",
       "      <td>71.530963</td>\n",
       "      <td>0.788417</td>\n",
       "      <td>0.000000</td>\n",
       "      <td>0.301032</td>\n",
       "      <td>71.052136</td>\n",
       "      <td>...</td>\n",
       "      <td>146</td>\n",
       "      <td>17601</td>\n",
       "      <td>101308000.0</td>\n",
       "      <td>37.1</td>\n",
       "      <td>34.3</td>\n",
       "      <td>1527</td>\n",
       "      <td>16.759537</td>\n",
       "      <td>65.452207</td>\n",
       "      <td>27.346764</td>\n",
       "      <td>38.105444</td>\n",
       "    </tr>\n",
       "    <tr>\n",
       "      <th>2</th>\n",
       "      <td>36005020502</td>\n",
       "      <td>2160</td>\n",
       "      <td>1737</td>\n",
       "      <td>1.666667</td>\n",
       "      <td>26.435185</td>\n",
       "      <td>71.481481</td>\n",
       "      <td>0.138889</td>\n",
       "      <td>0.000000</td>\n",
       "      <td>0.277778</td>\n",
       "      <td>64.824410</td>\n",
       "      <td>...</td>\n",
       "      <td>110</td>\n",
       "      <td>18919</td>\n",
       "      <td>40917200.0</td>\n",
       "      <td>33.6</td>\n",
       "      <td>39.3</td>\n",
       "      <td>555</td>\n",
       "      <td>24.831461</td>\n",
       "      <td>62.359551</td>\n",
       "      <td>26.292135</td>\n",
       "      <td>33.820225</td>\n",
       "    </tr>\n",
       "    <tr>\n",
       "      <th>3</th>\n",
       "      <td>36005020900</td>\n",
       "      <td>4287</td>\n",
       "      <td>3297</td>\n",
       "      <td>3.825519</td>\n",
       "      <td>37.602053</td>\n",
       "      <td>57.872638</td>\n",
       "      <td>0.256590</td>\n",
       "      <td>0.209937</td>\n",
       "      <td>0.233263</td>\n",
       "      <td>74.309979</td>\n",
       "      <td>...</td>\n",
       "      <td>209</td>\n",
       "      <td>31190</td>\n",
       "      <td>64260200.0</td>\n",
       "      <td>41.0</td>\n",
       "      <td>36.4</td>\n",
       "      <td>1178</td>\n",
       "      <td>19.557416</td>\n",
       "      <td>70.454545</td>\n",
       "      <td>13.098086</td>\n",
       "      <td>57.356459</td>\n",
       "    </tr>\n",
       "    <tr>\n",
       "      <th>4</th>\n",
       "      <td>36005021001</td>\n",
       "      <td>8930</td>\n",
       "      <td>7185</td>\n",
       "      <td>2.183651</td>\n",
       "      <td>50.470325</td>\n",
       "      <td>36.125420</td>\n",
       "      <td>8.801792</td>\n",
       "      <td>1.209406</td>\n",
       "      <td>1.209406</td>\n",
       "      <td>85.901183</td>\n",
       "      <td>...</td>\n",
       "      <td>491</td>\n",
       "      <td>54076</td>\n",
       "      <td>252806100.0</td>\n",
       "      <td>40.3</td>\n",
       "      <td>39.0</td>\n",
       "      <td>3059</td>\n",
       "      <td>22.057169</td>\n",
       "      <td>68.849876</td>\n",
       "      <td>15.890164</td>\n",
       "      <td>51.496736</td>\n",
       "    </tr>\n",
       "    <tr>\n",
       "      <th>...</th>\n",
       "      <td>...</td>\n",
       "      <td>...</td>\n",
       "      <td>...</td>\n",
       "      <td>...</td>\n",
       "      <td>...</td>\n",
       "      <td>...</td>\n",
       "      <td>...</td>\n",
       "      <td>...</td>\n",
       "      <td>...</td>\n",
       "      <td>...</td>\n",
       "      <td>...</td>\n",
       "      <td>...</td>\n",
       "      <td>...</td>\n",
       "      <td>...</td>\n",
       "      <td>...</td>\n",
       "      <td>...</td>\n",
       "      <td>...</td>\n",
       "      <td>...</td>\n",
       "      <td>...</td>\n",
       "      <td>...</td>\n",
       "      <td>...</td>\n",
       "    </tr>\n",
       "    <tr>\n",
       "      <th>2052</th>\n",
       "      <td>36061021800</td>\n",
       "      <td>6236</td>\n",
       "      <td>5023</td>\n",
       "      <td>20.525978</td>\n",
       "      <td>58.611289</td>\n",
       "      <td>18.136626</td>\n",
       "      <td>1.860167</td>\n",
       "      <td>0.545221</td>\n",
       "      <td>0.320718</td>\n",
       "      <td>81.206450</td>\n",
       "      <td>...</td>\n",
       "      <td>382</td>\n",
       "      <td>49482</td>\n",
       "      <td>246019500.0</td>\n",
       "      <td>36.1</td>\n",
       "      <td>34.5</td>\n",
       "      <td>2236</td>\n",
       "      <td>7.613424</td>\n",
       "      <td>69.484152</td>\n",
       "      <td>4.940957</td>\n",
       "      <td>63.859540</td>\n",
       "    </tr>\n",
       "    <tr>\n",
       "      <th>2053</th>\n",
       "      <td>36061028300</td>\n",
       "      <td>7949</td>\n",
       "      <td>6726</td>\n",
       "      <td>19.335766</td>\n",
       "      <td>5.535287</td>\n",
       "      <td>68.964650</td>\n",
       "      <td>4.981759</td>\n",
       "      <td>0.314505</td>\n",
       "      <td>0.868034</td>\n",
       "      <td>80.255724</td>\n",
       "      <td>...</td>\n",
       "      <td>363</td>\n",
       "      <td>56855</td>\n",
       "      <td>216280200.0</td>\n",
       "      <td>36.6</td>\n",
       "      <td>39.4</td>\n",
       "      <td>3056</td>\n",
       "      <td>9.824301</td>\n",
       "      <td>75.624845</td>\n",
       "      <td>9.180896</td>\n",
       "      <td>63.226924</td>\n",
       "    </tr>\n",
       "    <tr>\n",
       "      <th>2054</th>\n",
       "      <td>36061029100</td>\n",
       "      <td>12165</td>\n",
       "      <td>9582</td>\n",
       "      <td>6.321414</td>\n",
       "      <td>5.318537</td>\n",
       "      <td>82.836005</td>\n",
       "      <td>4.069051</td>\n",
       "      <td>0.139745</td>\n",
       "      <td>1.315249</td>\n",
       "      <td>70.632436</td>\n",
       "      <td>...</td>\n",
       "      <td>491</td>\n",
       "      <td>47054</td>\n",
       "      <td>251395300.0</td>\n",
       "      <td>35.1</td>\n",
       "      <td>33.7</td>\n",
       "      <td>3893</td>\n",
       "      <td>12.388918</td>\n",
       "      <td>67.834117</td>\n",
       "      <td>7.109252</td>\n",
       "      <td>60.724865</td>\n",
       "    </tr>\n",
       "    <tr>\n",
       "      <th>2055</th>\n",
       "      <td>36061029500</td>\n",
       "      <td>8182</td>\n",
       "      <td>7073</td>\n",
       "      <td>34.808115</td>\n",
       "      <td>2.994378</td>\n",
       "      <td>56.318748</td>\n",
       "      <td>3.312149</td>\n",
       "      <td>0.378880</td>\n",
       "      <td>2.187729</td>\n",
       "      <td>77.095999</td>\n",
       "      <td>...</td>\n",
       "      <td>339</td>\n",
       "      <td>73514</td>\n",
       "      <td>285031300.0</td>\n",
       "      <td>37.6</td>\n",
       "      <td>38.0</td>\n",
       "      <td>3382</td>\n",
       "      <td>10.556020</td>\n",
       "      <td>70.693980</td>\n",
       "      <td>7.211538</td>\n",
       "      <td>63.482441</td>\n",
       "    </tr>\n",
       "    <tr>\n",
       "      <th>2056</th>\n",
       "      <td>36061000900</td>\n",
       "      <td>1796</td>\n",
       "      <td>1532</td>\n",
       "      <td>63.697105</td>\n",
       "      <td>4.342984</td>\n",
       "      <td>9.242762</td>\n",
       "      <td>18.262806</td>\n",
       "      <td>0.946548</td>\n",
       "      <td>3.507795</td>\n",
       "      <td>99.869452</td>\n",
       "      <td>...</td>\n",
       "      <td>12</td>\n",
       "      <td>206750</td>\n",
       "      <td>226276500.0</td>\n",
       "      <td>34.4</td>\n",
       "      <td>33.6</td>\n",
       "      <td>729</td>\n",
       "      <td>5.640244</td>\n",
       "      <td>55.564024</td>\n",
       "      <td>0.000000</td>\n",
       "      <td>54.496951</td>\n",
       "    </tr>\n",
       "  </tbody>\n",
       "</table>\n",
       "<p>2057 rows × 26 columns</p>\n",
       "</div>"
      ],
      "text/plain": [
       "            Tract  Pop_Tot  Pop_18     %White     %Black  %Hispanic_Latino  \\\n",
       "0     36005020000     4711    3310   2.759499   9.382297         61.197198   \n",
       "1     36005020501     6976    5313   1.046445  26.333142         71.530963   \n",
       "2     36005020502     2160    1737   1.666667  26.435185         71.481481   \n",
       "3     36005020900     4287    3297   3.825519  37.602053         57.872638   \n",
       "4     36005021001     8930    7185   2.183651  50.470325         36.125420   \n",
       "...           ...      ...     ...        ...        ...               ...   \n",
       "2052  36061021800     6236    5023  20.525978  58.611289         18.136626   \n",
       "2053  36061028300     7949    6726  19.335766   5.535287         68.964650   \n",
       "2054  36061029100    12165    9582   6.321414   5.318537         82.836005   \n",
       "2055  36061029500     8182    7073  34.808115   2.994378         56.318748   \n",
       "2056  36061000900     1796    1532  63.697105   4.342984          9.242762   \n",
       "\n",
       "         %Asian    %Other    %Mixed    %Edu_hs  ...  J_B_3  Median_Inc  \\\n",
       "0     23.392061  2.080238  1.188707  71.873112  ...    334       40184   \n",
       "1      0.788417  0.000000  0.301032  71.052136  ...    146       17601   \n",
       "2      0.138889  0.000000  0.277778  64.824410  ...    110       18919   \n",
       "3      0.256590  0.209937  0.233263  74.309979  ...    209       31190   \n",
       "4      8.801792  1.209406  1.209406  85.901183  ...    491       54076   \n",
       "...         ...       ...       ...        ...  ...    ...         ...   \n",
       "2052   1.860167  0.545221  0.320718  81.206450  ...    382       49482   \n",
       "2053   4.981759  0.314505  0.868034  80.255724  ...    363       56855   \n",
       "2054   4.069051  0.139745  1.315249  70.632436  ...    491       47054   \n",
       "2055   3.312149  0.378880  2.187729  77.095999  ...    339       73514   \n",
       "2056  18.262806  0.946548  3.507795  99.869452  ...     12      206750   \n",
       "\n",
       "          Agg_Inc  M_Age_Wor  M_Age_All  Transit_all  Perc_Drive  \\\n",
       "0      78328200.0       42.0       32.7         1338   17.677553   \n",
       "1     101308000.0       37.1       34.3         1527   16.759537   \n",
       "2      40917200.0       33.6       39.3          555   24.831461   \n",
       "3      64260200.0       41.0       36.4         1178   19.557416   \n",
       "4     252806100.0       40.3       39.0         3059   22.057169   \n",
       "...           ...        ...        ...          ...         ...   \n",
       "2052  246019500.0       36.1       34.5         2236    7.613424   \n",
       "2053  216280200.0       36.6       39.4         3056    9.824301   \n",
       "2054  251395300.0       35.1       33.7         3893   12.388918   \n",
       "2055  285031300.0       37.6       38.0         3382   10.556020   \n",
       "2056  226276500.0       34.4       33.6          729    5.640244   \n",
       "\n",
       "      Perc_Transit_all   Perc_Bus  Perc_Subway  \n",
       "0            69.362364  11.145671    58.216693  \n",
       "1            65.452207  27.346764    38.105444  \n",
       "2            62.359551  26.292135    33.820225  \n",
       "3            70.454545  13.098086    57.356459  \n",
       "4            68.849876  15.890164    51.496736  \n",
       "...                ...        ...          ...  \n",
       "2052         69.484152   4.940957    63.859540  \n",
       "2053         75.624845   9.180896    63.226924  \n",
       "2054         67.834117   7.109252    60.724865  \n",
       "2055         70.693980   7.211538    63.482441  \n",
       "2056         55.564024   0.000000    54.496951  \n",
       "\n",
       "[2057 rows x 26 columns]"
      ]
     },
     "execution_count": 233,
     "metadata": {},
     "output_type": "execute_result"
    }
   ],
   "source": [
    "df_combined = merge7[['Tract', 'Race_Total', 'Edu_Tot', \n",
    "                           '%White', '%Black',\n",
    "                           '%Hispanic_Latino',\"%Asian\",\n",
    "                           '%Other', '%Mixed', '%Edu_hs', '%Edu_bac', \n",
    "                           'J_Tot', 'J_W_1', 'J_B_1', 'J_W_2', 'J_B_2',\n",
    "                            'J_B_3', 'Median_Inc', 'Agg_Inc', 'M_Age_Wor', 'M_Age_All','Transit_all', 'Perc_Drive', 'Perc_Transit_all', \n",
    "                            'Perc_Bus', 'Perc_Subway']]\n",
    "df_combined = df_combined.rename({'Race_Total':'Pop_Tot', 'Edu_Tot':'Pop_18'}, axis=1)\n",
    "df_combined"
   ]
  },
  {
   "cell_type": "code",
   "execution_count": 234,
   "metadata": {},
   "outputs": [
    {
     "data": {
      "text/plain": [
       "Index(['Tract', 'Pop_Tot', 'Pop_18', '%White', '%Black', '%Hispanic_Latino',\n",
       "       '%Asian', '%Other', '%Mixed', '%Edu_hs', '%Edu_bac', 'J_Tot', 'J_W_1',\n",
       "       'J_B_1', 'J_W_2', 'J_B_2', 'J_B_3', 'Median_Inc', 'Agg_Inc',\n",
       "       'M_Age_Wor', 'M_Age_All', 'Transit_all', 'Perc_Drive',\n",
       "       'Perc_Transit_all', 'Perc_Bus', 'Perc_Subway'],\n",
       "      dtype='object')"
      ]
     },
     "execution_count": 234,
     "metadata": {},
     "output_type": "execute_result"
    }
   ],
   "source": [
    "df_combined.columns"
   ]
  },
  {
   "cell_type": "code",
   "execution_count": 235,
   "metadata": {
    "id": "aafXY3622t2b"
   },
   "outputs": [],
   "source": [
    "df_combined.to_csv('../Data/demog_tract_level.csv',index=False)"
   ]
  },
  {
   "cell_type": "markdown",
   "metadata": {
    "id": "8kZEQEG4XnMO"
   },
   "source": [
    "## Merge with 2010 shoreclipped tract"
   ]
  },
  {
   "cell_type": "code",
   "execution_count": 236,
   "metadata": {
    "id": "RXpWONKSbMTD"
   },
   "outputs": [],
   "source": [
    "import geopandas as gpd"
   ]
  },
  {
   "cell_type": "code",
   "execution_count": 237,
   "metadata": {
    "colab": {
     "base_uri": "https://localhost:8080/"
    },
    "id": "K3ZOwFKXbzRy",
    "outputId": "048b747f-cac2-4099-8c88-2a228f6f6c25"
   },
   "outputs": [
    {
     "data": {
      "text/plain": [
       "(2055, 16)"
      ]
     },
     "execution_count": 237,
     "metadata": {},
     "output_type": "execute_result"
    }
   ],
   "source": [
    "nyc_tract = gpd.read_file('../Data/2010_Census_Tracts/2010_Census_Tracts.shp').set_crs(4326, allow_override=True)\n",
    "nyc_tract.shape"
   ]
  },
  {
   "cell_type": "code",
   "execution_count": 238,
   "metadata": {
    "colab": {
     "base_uri": "https://localhost:8080/"
    },
    "id": "DQxaNxnuM_OM",
    "outputId": "d602424a-0884-440e-f867-bae56cb004e6"
   },
   "outputs": [
    {
     "data": {
      "text/plain": [
       "<Geographic 2D CRS: EPSG:4326>\n",
       "Name: WGS 84\n",
       "Axis Info [ellipsoidal]:\n",
       "- Lat[north]: Geodetic latitude (degree)\n",
       "- Lon[east]: Geodetic longitude (degree)\n",
       "Area of Use:\n",
       "- name: World.\n",
       "- bounds: (-180.0, -90.0, 180.0, 90.0)\n",
       "Datum: World Geodetic System 1984\n",
       "- Ellipsoid: WGS 84\n",
       "- Prime Meridian: Greenwich"
      ]
     },
     "execution_count": 238,
     "metadata": {},
     "output_type": "execute_result"
    }
   ],
   "source": [
    "nyc_tract.crs"
   ]
  },
  {
   "cell_type": "markdown",
   "metadata": {
    "id": "Rm_33_nEQ2Et"
   },
   "source": [
    "Use internal point in the census tract shapefile:\n",
    "*Internal point—The Census Bureau calculates an internal point (latitude and longitude coordinates) for each geographic area. For many geographic areas, the internal point is the centroid, the geographic center of the entity. For some irregularly shaped areas (such as those shaped like a crescent), the centroid may be located outside the boundaries of the entity. In such instances, the internal point is identified as a point inside the entity boundaries nearest to the centroid and, if possible, a point that is on land area, not water.*"
   ]
  },
  {
   "cell_type": "code",
   "execution_count": 239,
   "metadata": {
    "colab": {
     "base_uri": "https://localhost:8080/",
     "height": 225
    },
    "id": "kQdIxrr0RBoz",
    "outputId": "ba490b47-2b10-4f65-efb4-2e4ddb1d20d4"
   },
   "outputs": [
    {
     "data": {
      "text/html": [
       "<div>\n",
       "<style scoped>\n",
       "    .dataframe tbody tr th:only-of-type {\n",
       "        vertical-align: middle;\n",
       "    }\n",
       "\n",
       "    .dataframe tbody tr th {\n",
       "        vertical-align: top;\n",
       "    }\n",
       "\n",
       "    .dataframe thead th {\n",
       "        text-align: right;\n",
       "    }\n",
       "</style>\n",
       "<table border=\"1\" class=\"dataframe\">\n",
       "  <thead>\n",
       "    <tr style=\"text-align: right;\">\n",
       "      <th></th>\n",
       "      <th>ctlabel</th>\n",
       "      <th>boro_code</th>\n",
       "      <th>boro_name</th>\n",
       "      <th>ct2010</th>\n",
       "      <th>boro_ct201</th>\n",
       "      <th>cdeligibil</th>\n",
       "      <th>ntacode</th>\n",
       "      <th>ntaname</th>\n",
       "      <th>puma</th>\n",
       "      <th>shape_leng</th>\n",
       "      <th>shape_area</th>\n",
       "      <th>geoid</th>\n",
       "      <th>Center_Lat</th>\n",
       "      <th>Center_Lon</th>\n",
       "      <th>area_km2</th>\n",
       "      <th>geometry</th>\n",
       "    </tr>\n",
       "  </thead>\n",
       "  <tbody>\n",
       "    <tr>\n",
       "      <th>0</th>\n",
       "      <td>98</td>\n",
       "      <td>1</td>\n",
       "      <td>Manhattan</td>\n",
       "      <td>009800</td>\n",
       "      <td>1009800</td>\n",
       "      <td>I</td>\n",
       "      <td>MN19</td>\n",
       "      <td>Turtle Bay-East Midtown</td>\n",
       "      <td>3808</td>\n",
       "      <td>5534.20030845</td>\n",
       "      <td>1906016.47074</td>\n",
       "      <td>36061009800</td>\n",
       "      <td>40.755788</td>\n",
       "      <td>-73.967775</td>\n",
       "      <td>0.177075</td>\n",
       "      <td>POLYGON ((-73.96433 40.75638, -73.96479 40.755...</td>\n",
       "    </tr>\n",
       "    <tr>\n",
       "      <th>1</th>\n",
       "      <td>102</td>\n",
       "      <td>1</td>\n",
       "      <td>Manhattan</td>\n",
       "      <td>010200</td>\n",
       "      <td>1010200</td>\n",
       "      <td>I</td>\n",
       "      <td>MN17</td>\n",
       "      <td>Midtown-Midtown South</td>\n",
       "      <td>3807</td>\n",
       "      <td>5687.80243891</td>\n",
       "      <td>1860992.68163</td>\n",
       "      <td>36061010200</td>\n",
       "      <td>40.759424</td>\n",
       "      <td>-73.974449</td>\n",
       "      <td>0.172893</td>\n",
       "      <td>POLYGON ((-73.97124 40.76094, -73.97170 40.760...</td>\n",
       "    </tr>\n",
       "  </tbody>\n",
       "</table>\n",
       "</div>"
      ],
      "text/plain": [
       "  ctlabel boro_code  boro_name  ct2010 boro_ct201 cdeligibil ntacode  \\\n",
       "0      98         1  Manhattan  009800    1009800          I    MN19   \n",
       "1     102         1  Manhattan  010200    1010200          I    MN17   \n",
       "\n",
       "                   ntaname  puma     shape_leng     shape_area        geoid  \\\n",
       "0  Turtle Bay-East Midtown  3808  5534.20030845  1906016.47074  36061009800   \n",
       "1    Midtown-Midtown South  3807  5687.80243891  1860992.68163  36061010200   \n",
       "\n",
       "   Center_Lat  Center_Lon  area_km2  \\\n",
       "0   40.755788  -73.967775  0.177075   \n",
       "1   40.759424  -73.974449  0.172893   \n",
       "\n",
       "                                            geometry  \n",
       "0  POLYGON ((-73.96433 40.75638, -73.96479 40.755...  \n",
       "1  POLYGON ((-73.97124 40.76094, -73.97170 40.760...  "
      ]
     },
     "execution_count": 239,
     "metadata": {},
     "output_type": "execute_result"
    }
   ],
   "source": [
    "nyc_tract.head(2)"
   ]
  },
  {
   "cell_type": "code",
   "execution_count": 240,
   "metadata": {
    "colab": {
     "base_uri": "https://localhost:8080/",
     "height": 206
    },
    "id": "zjS1nvWdH1VJ",
    "outputId": "14c85d48-9ce1-466a-acb8-d9aa7dd07c26"
   },
   "outputs": [
    {
     "data": {
      "text/html": [
       "<div>\n",
       "<style scoped>\n",
       "    .dataframe tbody tr th:only-of-type {\n",
       "        vertical-align: middle;\n",
       "    }\n",
       "\n",
       "    .dataframe tbody tr th {\n",
       "        vertical-align: top;\n",
       "    }\n",
       "\n",
       "    .dataframe thead th {\n",
       "        text-align: right;\n",
       "    }\n",
       "</style>\n",
       "<table border=\"1\" class=\"dataframe\">\n",
       "  <thead>\n",
       "    <tr style=\"text-align: right;\">\n",
       "      <th></th>\n",
       "      <th>geoid</th>\n",
       "      <th>Center_Lat</th>\n",
       "      <th>Center_Lon</th>\n",
       "      <th>geometry</th>\n",
       "    </tr>\n",
       "  </thead>\n",
       "  <tbody>\n",
       "    <tr>\n",
       "      <th>0</th>\n",
       "      <td>36061009800</td>\n",
       "      <td>40.755788</td>\n",
       "      <td>-73.967775</td>\n",
       "      <td>POLYGON ((-73.96433 40.75638, -73.96479 40.755...</td>\n",
       "    </tr>\n",
       "    <tr>\n",
       "      <th>1</th>\n",
       "      <td>36061010200</td>\n",
       "      <td>40.759424</td>\n",
       "      <td>-73.974449</td>\n",
       "      <td>POLYGON ((-73.97124 40.76094, -73.97170 40.760...</td>\n",
       "    </tr>\n",
       "    <tr>\n",
       "      <th>2</th>\n",
       "      <td>36061010400</td>\n",
       "      <td>40.760779</td>\n",
       "      <td>-73.977673</td>\n",
       "      <td>POLYGON ((-73.97446 40.76229, -73.97491 40.761...</td>\n",
       "    </tr>\n",
       "    <tr>\n",
       "      <th>3</th>\n",
       "      <td>36061011300</td>\n",
       "      <td>40.754775</td>\n",
       "      <td>-73.987870</td>\n",
       "      <td>POLYGON ((-73.98412 40.75484, -73.98460 40.754...</td>\n",
       "    </tr>\n",
       "    <tr>\n",
       "      <th>4</th>\n",
       "      <td>36061013000</td>\n",
       "      <td>40.772736</td>\n",
       "      <td>-73.964734</td>\n",
       "      <td>POLYGON ((-73.96148 40.77432, -73.96194 40.773...</td>\n",
       "    </tr>\n",
       "  </tbody>\n",
       "</table>\n",
       "</div>"
      ],
      "text/plain": [
       "         geoid  Center_Lat  Center_Lon  \\\n",
       "0  36061009800   40.755788  -73.967775   \n",
       "1  36061010200   40.759424  -73.974449   \n",
       "2  36061010400   40.760779  -73.977673   \n",
       "3  36061011300   40.754775  -73.987870   \n",
       "4  36061013000   40.772736  -73.964734   \n",
       "\n",
       "                                            geometry  \n",
       "0  POLYGON ((-73.96433 40.75638, -73.96479 40.755...  \n",
       "1  POLYGON ((-73.97124 40.76094, -73.97170 40.760...  \n",
       "2  POLYGON ((-73.97446 40.76229, -73.97491 40.761...  \n",
       "3  POLYGON ((-73.98412 40.75484, -73.98460 40.754...  \n",
       "4  POLYGON ((-73.96148 40.77432, -73.96194 40.773...  "
      ]
     },
     "execution_count": 240,
     "metadata": {},
     "output_type": "execute_result"
    }
   ],
   "source": [
    "nyc_tract = nyc_tract.iloc[:, [11, 12, 13, 15]]\n",
    "nyc_tract.head(5)"
   ]
  },
  {
   "cell_type": "code",
   "execution_count": 241,
   "metadata": {
    "colab": {
     "base_uri": "https://localhost:8080/",
     "height": 206
    },
    "id": "vPeUhnL6IBfb",
    "outputId": "aa56f3d1-f91f-4a44-9445-ec0ee938c430"
   },
   "outputs": [
    {
     "data": {
      "text/html": [
       "<div>\n",
       "<style scoped>\n",
       "    .dataframe tbody tr th:only-of-type {\n",
       "        vertical-align: middle;\n",
       "    }\n",
       "\n",
       "    .dataframe tbody tr th {\n",
       "        vertical-align: top;\n",
       "    }\n",
       "\n",
       "    .dataframe thead th {\n",
       "        text-align: right;\n",
       "    }\n",
       "</style>\n",
       "<table border=\"1\" class=\"dataframe\">\n",
       "  <thead>\n",
       "    <tr style=\"text-align: right;\">\n",
       "      <th></th>\n",
       "      <th>geoid</th>\n",
       "      <th>Center_Lat</th>\n",
       "      <th>Center_Lon</th>\n",
       "      <th>geometry</th>\n",
       "    </tr>\n",
       "  </thead>\n",
       "  <tbody>\n",
       "    <tr>\n",
       "      <th>0</th>\n",
       "      <td>36061009800</td>\n",
       "      <td>40.755788</td>\n",
       "      <td>-73.967775</td>\n",
       "      <td>POLYGON ((-73.96433 40.75638, -73.96479 40.755...</td>\n",
       "    </tr>\n",
       "    <tr>\n",
       "      <th>1</th>\n",
       "      <td>36061010200</td>\n",
       "      <td>40.759424</td>\n",
       "      <td>-73.974449</td>\n",
       "      <td>POLYGON ((-73.97124 40.76094, -73.97170 40.760...</td>\n",
       "    </tr>\n",
       "    <tr>\n",
       "      <th>2</th>\n",
       "      <td>36061010400</td>\n",
       "      <td>40.760779</td>\n",
       "      <td>-73.977673</td>\n",
       "      <td>POLYGON ((-73.97446 40.76229, -73.97491 40.761...</td>\n",
       "    </tr>\n",
       "    <tr>\n",
       "      <th>3</th>\n",
       "      <td>36061011300</td>\n",
       "      <td>40.754775</td>\n",
       "      <td>-73.987870</td>\n",
       "      <td>POLYGON ((-73.98412 40.75484, -73.98460 40.754...</td>\n",
       "    </tr>\n",
       "    <tr>\n",
       "      <th>4</th>\n",
       "      <td>36061013000</td>\n",
       "      <td>40.772736</td>\n",
       "      <td>-73.964734</td>\n",
       "      <td>POLYGON ((-73.96148 40.77432, -73.96194 40.773...</td>\n",
       "    </tr>\n",
       "  </tbody>\n",
       "</table>\n",
       "</div>"
      ],
      "text/plain": [
       "         geoid  Center_Lat  Center_Lon  \\\n",
       "0  36061009800   40.755788  -73.967775   \n",
       "1  36061010200   40.759424  -73.974449   \n",
       "2  36061010400   40.760779  -73.977673   \n",
       "3  36061011300   40.754775  -73.987870   \n",
       "4  36061013000   40.772736  -73.964734   \n",
       "\n",
       "                                            geometry  \n",
       "0  POLYGON ((-73.96433 40.75638, -73.96479 40.755...  \n",
       "1  POLYGON ((-73.97124 40.76094, -73.97170 40.760...  \n",
       "2  POLYGON ((-73.97446 40.76229, -73.97491 40.761...  \n",
       "3  POLYGON ((-73.98412 40.75484, -73.98460 40.754...  \n",
       "4  POLYGON ((-73.96148 40.77432, -73.96194 40.773...  "
      ]
     },
     "execution_count": 241,
     "metadata": {},
     "output_type": "execute_result"
    }
   ],
   "source": [
    "tract_df = pd.DataFrame(nyc_tract)\n",
    "tract_df.head(5)"
   ]
  },
  {
   "cell_type": "code",
   "execution_count": 242,
   "metadata": {
    "colab": {
     "base_uri": "https://localhost:8080/",
     "height": 315
    },
    "id": "f4BqZyFNIUk5",
    "outputId": "d0867b07-7620-4292-e4d8-ac328b1541a7"
   },
   "outputs": [
    {
     "data": {
      "text/html": [
       "<div>\n",
       "<style scoped>\n",
       "    .dataframe tbody tr th:only-of-type {\n",
       "        vertical-align: middle;\n",
       "    }\n",
       "\n",
       "    .dataframe tbody tr th {\n",
       "        vertical-align: top;\n",
       "    }\n",
       "\n",
       "    .dataframe thead th {\n",
       "        text-align: right;\n",
       "    }\n",
       "</style>\n",
       "<table border=\"1\" class=\"dataframe\">\n",
       "  <thead>\n",
       "    <tr style=\"text-align: right;\">\n",
       "      <th></th>\n",
       "      <th>Tract</th>\n",
       "      <th>Pop_Tot</th>\n",
       "      <th>Pop_18</th>\n",
       "      <th>%White</th>\n",
       "      <th>%Black</th>\n",
       "      <th>%Hispanic_Latino</th>\n",
       "      <th>%Asian</th>\n",
       "      <th>%Other</th>\n",
       "      <th>%Mixed</th>\n",
       "      <th>%Edu_hs</th>\n",
       "      <th>...</th>\n",
       "      <th>M_Age_Wor</th>\n",
       "      <th>M_Age_All</th>\n",
       "      <th>Transit_all</th>\n",
       "      <th>Perc_Drive</th>\n",
       "      <th>Perc_Transit_all</th>\n",
       "      <th>Perc_Bus</th>\n",
       "      <th>Perc_Subway</th>\n",
       "      <th>Center_Lat</th>\n",
       "      <th>Center_Lon</th>\n",
       "      <th>geometry</th>\n",
       "    </tr>\n",
       "  </thead>\n",
       "  <tbody>\n",
       "    <tr>\n",
       "      <th>0</th>\n",
       "      <td>36061009800</td>\n",
       "      <td>7302</td>\n",
       "      <td>6646</td>\n",
       "      <td>75.458778</td>\n",
       "      <td>2.095316</td>\n",
       "      <td>9.832922</td>\n",
       "      <td>10.832649</td>\n",
       "      <td>0.136949</td>\n",
       "      <td>1.643385</td>\n",
       "      <td>95.78694</td>\n",
       "      <td>...</td>\n",
       "      <td>36.1</td>\n",
       "      <td>41.6</td>\n",
       "      <td>1469</td>\n",
       "      <td>8.229098</td>\n",
       "      <td>32.236120</td>\n",
       "      <td>0.438885</td>\n",
       "      <td>30.480579</td>\n",
       "      <td>40.755788</td>\n",
       "      <td>-73.967775</td>\n",
       "      <td>POLYGON ((-73.96433 40.75638, -73.96479 40.755...</td>\n",
       "    </tr>\n",
       "    <tr>\n",
       "      <th>1</th>\n",
       "      <td>36061010200</td>\n",
       "      <td>122</td>\n",
       "      <td>102</td>\n",
       "      <td>54.918033</td>\n",
       "      <td>5.737705</td>\n",
       "      <td>11.475410</td>\n",
       "      <td>1.639344</td>\n",
       "      <td>22.950820</td>\n",
       "      <td>3.278689</td>\n",
       "      <td>100.00000</td>\n",
       "      <td>...</td>\n",
       "      <td>37.5</td>\n",
       "      <td>39.7</td>\n",
       "      <td>16</td>\n",
       "      <td>11.111111</td>\n",
       "      <td>25.396825</td>\n",
       "      <td>3.174603</td>\n",
       "      <td>22.222222</td>\n",
       "      <td>40.759424</td>\n",
       "      <td>-73.974449</td>\n",
       "      <td>POLYGON ((-73.97124 40.76094, -73.97170 40.760...</td>\n",
       "    </tr>\n",
       "  </tbody>\n",
       "</table>\n",
       "<p>2 rows × 29 columns</p>\n",
       "</div>"
      ],
      "text/plain": [
       "         Tract  Pop_Tot  Pop_18     %White    %Black  %Hispanic_Latino  \\\n",
       "0  36061009800     7302    6646  75.458778  2.095316          9.832922   \n",
       "1  36061010200      122     102  54.918033  5.737705         11.475410   \n",
       "\n",
       "      %Asian     %Other    %Mixed    %Edu_hs  ...  M_Age_Wor  M_Age_All  \\\n",
       "0  10.832649   0.136949  1.643385   95.78694  ...       36.1       41.6   \n",
       "1   1.639344  22.950820  3.278689  100.00000  ...       37.5       39.7   \n",
       "\n",
       "   Transit_all  Perc_Drive  Perc_Transit_all  Perc_Bus  Perc_Subway  \\\n",
       "0         1469    8.229098         32.236120  0.438885    30.480579   \n",
       "1           16   11.111111         25.396825  3.174603    22.222222   \n",
       "\n",
       "   Center_Lat  Center_Lon                                           geometry  \n",
       "0   40.755788  -73.967775  POLYGON ((-73.96433 40.75638, -73.96479 40.755...  \n",
       "1   40.759424  -73.974449  POLYGON ((-73.97124 40.76094, -73.97170 40.760...  \n",
       "\n",
       "[2 rows x 29 columns]"
      ]
     },
     "execution_count": 242,
     "metadata": {},
     "output_type": "execute_result"
    }
   ],
   "source": [
    "#merge with the census df from before\n",
    "tract_merged = df_combined.merge(tract_df,how='right',left_on='Tract', right_on='geoid')\\\n",
    "                          .drop(columns=['geoid'])\n",
    "tract_merged.head(2)"
   ]
  },
  {
   "cell_type": "code",
   "execution_count": 243,
   "metadata": {
    "colab": {
     "base_uri": "https://localhost:8080/"
    },
    "id": "q-QcFTn1ceva",
    "outputId": "14832172-0016-4e5e-bcdd-91bbe70639ed"
   },
   "outputs": [
    {
     "data": {
      "text/plain": [
       "(2055, 29)"
      ]
     },
     "execution_count": 243,
     "metadata": {},
     "output_type": "execute_result"
    }
   ],
   "source": [
    "tract_merged.shape"
   ]
  },
  {
   "cell_type": "code",
   "execution_count": 244,
   "metadata": {
    "colab": {
     "base_uri": "https://localhost:8080/",
     "height": 315
    },
    "id": "3ACQ49YBJbE0",
    "outputId": "75c0d8d6-6451-4f27-cf02-fede64a0a0e6"
   },
   "outputs": [
    {
     "data": {
      "text/html": [
       "<div>\n",
       "<style scoped>\n",
       "    .dataframe tbody tr th:only-of-type {\n",
       "        vertical-align: middle;\n",
       "    }\n",
       "\n",
       "    .dataframe tbody tr th {\n",
       "        vertical-align: top;\n",
       "    }\n",
       "\n",
       "    .dataframe thead th {\n",
       "        text-align: right;\n",
       "    }\n",
       "</style>\n",
       "<table border=\"1\" class=\"dataframe\">\n",
       "  <thead>\n",
       "    <tr style=\"text-align: right;\">\n",
       "      <th></th>\n",
       "      <th>Tract</th>\n",
       "      <th>Pop_Tot</th>\n",
       "      <th>Pop_18</th>\n",
       "      <th>%White</th>\n",
       "      <th>%Black</th>\n",
       "      <th>%Hispanic_Latino</th>\n",
       "      <th>%Asian</th>\n",
       "      <th>%Other</th>\n",
       "      <th>%Mixed</th>\n",
       "      <th>%Edu_hs</th>\n",
       "      <th>...</th>\n",
       "      <th>M_Age_Wor</th>\n",
       "      <th>M_Age_All</th>\n",
       "      <th>Transit_all</th>\n",
       "      <th>Perc_Drive</th>\n",
       "      <th>Perc_Transit_all</th>\n",
       "      <th>Perc_Bus</th>\n",
       "      <th>Perc_Subway</th>\n",
       "      <th>Center_Lat</th>\n",
       "      <th>Center_Lon</th>\n",
       "      <th>geometry</th>\n",
       "    </tr>\n",
       "  </thead>\n",
       "  <tbody>\n",
       "    <tr>\n",
       "      <th>0</th>\n",
       "      <td>36061009800</td>\n",
       "      <td>7302</td>\n",
       "      <td>6646</td>\n",
       "      <td>75.458778</td>\n",
       "      <td>2.095316</td>\n",
       "      <td>9.832922</td>\n",
       "      <td>10.832649</td>\n",
       "      <td>0.136949</td>\n",
       "      <td>1.643385</td>\n",
       "      <td>95.78694</td>\n",
       "      <td>...</td>\n",
       "      <td>36.1</td>\n",
       "      <td>41.6</td>\n",
       "      <td>1469</td>\n",
       "      <td>8.229098</td>\n",
       "      <td>32.236120</td>\n",
       "      <td>0.438885</td>\n",
       "      <td>30.480579</td>\n",
       "      <td>40.755788</td>\n",
       "      <td>-73.967775</td>\n",
       "      <td>POLYGON ((-73.96433 40.75638, -73.96479 40.755...</td>\n",
       "    </tr>\n",
       "    <tr>\n",
       "      <th>1</th>\n",
       "      <td>36061010200</td>\n",
       "      <td>122</td>\n",
       "      <td>102</td>\n",
       "      <td>54.918033</td>\n",
       "      <td>5.737705</td>\n",
       "      <td>11.475410</td>\n",
       "      <td>1.639344</td>\n",
       "      <td>22.950820</td>\n",
       "      <td>3.278689</td>\n",
       "      <td>100.00000</td>\n",
       "      <td>...</td>\n",
       "      <td>37.5</td>\n",
       "      <td>39.7</td>\n",
       "      <td>16</td>\n",
       "      <td>11.111111</td>\n",
       "      <td>25.396825</td>\n",
       "      <td>3.174603</td>\n",
       "      <td>22.222222</td>\n",
       "      <td>40.759424</td>\n",
       "      <td>-73.974449</td>\n",
       "      <td>POLYGON ((-73.97124 40.76094, -73.97170 40.760...</td>\n",
       "    </tr>\n",
       "  </tbody>\n",
       "</table>\n",
       "<p>2 rows × 29 columns</p>\n",
       "</div>"
      ],
      "text/plain": [
       "         Tract  Pop_Tot  Pop_18     %White    %Black  %Hispanic_Latino  \\\n",
       "0  36061009800     7302    6646  75.458778  2.095316          9.832922   \n",
       "1  36061010200      122     102  54.918033  5.737705         11.475410   \n",
       "\n",
       "      %Asian     %Other    %Mixed    %Edu_hs  ...  M_Age_Wor  M_Age_All  \\\n",
       "0  10.832649   0.136949  1.643385   95.78694  ...       36.1       41.6   \n",
       "1   1.639344  22.950820  3.278689  100.00000  ...       37.5       39.7   \n",
       "\n",
       "   Transit_all  Perc_Drive  Perc_Transit_all  Perc_Bus  Perc_Subway  \\\n",
       "0         1469    8.229098         32.236120  0.438885    30.480579   \n",
       "1           16   11.111111         25.396825  3.174603    22.222222   \n",
       "\n",
       "   Center_Lat  Center_Lon                                           geometry  \n",
       "0   40.755788  -73.967775  POLYGON ((-73.96433 40.75638, -73.96479 40.755...  \n",
       "1   40.759424  -73.974449  POLYGON ((-73.97124 40.76094, -73.97170 40.760...  \n",
       "\n",
       "[2 rows x 29 columns]"
      ]
     },
     "execution_count": 244,
     "metadata": {},
     "output_type": "execute_result"
    }
   ],
   "source": [
    "#create geodataframe to save as shapefile\n",
    "tract_merged_gdf = gpd.GeoDataFrame(tract_merged, geometry='geometry')\n",
    "tract_merged_gdf.head(2)"
   ]
  },
  {
   "cell_type": "code",
   "execution_count": 245,
   "metadata": {
    "colab": {
     "base_uri": "https://localhost:8080/"
    },
    "id": "AoUdcHPiPiac",
    "outputId": "dee589ca-def2-4528-bb03-79584366f1df"
   },
   "outputs": [
    {
     "name": "stderr",
     "output_type": "stream",
     "text": [
      "<ipython-input-245-f43b6f2bf16a>:1: UserWarning: Column names longer than 10 characters will be truncated when saved to ESRI Shapefile.\n",
      "  tract_merged_gdf.to_file('../Data/tract_with_info_v4.shp')\n"
     ]
    }
   ],
   "source": [
    "tract_merged_gdf.to_file('../Data/tract_with_info_v4.shp')  "
   ]
  },
  {
   "cell_type": "code",
   "execution_count": 246,
   "metadata": {
    "id": "k78FaNaDcoRm"
   },
   "outputs": [],
   "source": [
    "# tract_points = tract_merged.iloc[:,[0,12,13]]\n",
    "# tract_points.to_csv('tract_points.csv', index=False)"
   ]
  },
  {
   "cell_type": "code",
   "execution_count": null,
   "metadata": {},
   "outputs": [],
   "source": []
  },
  {
   "cell_type": "code",
   "execution_count": null,
   "metadata": {},
   "outputs": [],
   "source": []
  }
 ],
 "metadata": {
  "colab": {
   "provenance": [],
   "toc_visible": true
  },
  "kernelspec": {
   "display_name": "Python 3",
   "language": "python",
   "name": "python3"
  },
  "language_info": {
   "codemirror_mode": {
    "name": "ipython",
    "version": 3
   },
   "file_extension": ".py",
   "mimetype": "text/x-python",
   "name": "python",
   "nbconvert_exporter": "python",
   "pygments_lexer": "ipython3",
   "version": "3.8.3"
  }
 },
 "nbformat": 4,
 "nbformat_minor": 4
}
